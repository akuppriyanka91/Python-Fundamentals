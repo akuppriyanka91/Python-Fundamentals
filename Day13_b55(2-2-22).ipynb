{
 "cells": [
  {
   "cell_type": "code",
   "execution_count": null,
   "id": "d3f4b00c",
   "metadata": {},
   "outputs": [],
   "source": [
    "# python functions"
   ]
  },
  {
   "cell_type": "code",
   "execution_count": null,
   "id": "cb551e21",
   "metadata": {},
   "outputs": [],
   "source": [
    "parameters and arguments"
   ]
  },
  {
   "cell_type": "code",
   "execution_count": null,
   "id": "b776df24",
   "metadata": {},
   "outputs": [],
   "source": []
  },
  {
   "cell_type": "code",
   "execution_count": 1,
   "id": "33629af6",
   "metadata": {},
   "outputs": [],
   "source": [
    "def greet():\n",
    "    \"\"\"create a greeting function\"\"\"\n",
    "    print(\"hi\")"
   ]
  },
  {
   "cell_type": "code",
   "execution_count": 2,
   "id": "8c322eae",
   "metadata": {},
   "outputs": [
    {
     "name": "stdout",
     "output_type": "stream",
     "text": [
      "hi\n"
     ]
    }
   ],
   "source": [
    "greet()"
   ]
  },
  {
   "cell_type": "code",
   "execution_count": 3,
   "id": "80e6760b",
   "metadata": {},
   "outputs": [
    {
     "name": "stdout",
     "output_type": "stream",
     "text": [
      "hello\n"
     ]
    }
   ],
   "source": [
    "print(\"hello\")"
   ]
  },
  {
   "cell_type": "code",
   "execution_count": 4,
   "id": "1ed7d8b8",
   "metadata": {},
   "outputs": [
    {
     "name": "stdout",
     "output_type": "stream",
     "text": [
      "hi\n"
     ]
    }
   ],
   "source": [
    "greet()"
   ]
  },
  {
   "cell_type": "code",
   "execution_count": 5,
   "id": "7caf0cc5",
   "metadata": {},
   "outputs": [
    {
     "ename": "IndentationError",
     "evalue": "expected an indented block (Temp/ipykernel_17804/2262657367.py, line 1)",
     "output_type": "error",
     "traceback": [
      "\u001b[1;36m  File \u001b[1;32m\"C:\\Users\\Preet\\AppData\\Local\\Temp/ipykernel_17804/2262657367.py\"\u001b[1;36m, line \u001b[1;32m1\u001b[0m\n\u001b[1;33m    def greet():\u001b[0m\n\u001b[1;37m                ^\u001b[0m\n\u001b[1;31mIndentationError\u001b[0m\u001b[1;31m:\u001b[0m expected an indented block\n"
     ]
    }
   ],
   "source": [
    "def greet():"
   ]
  },
  {
   "cell_type": "code",
   "execution_count": 6,
   "id": "69b0f116",
   "metadata": {},
   "outputs": [],
   "source": [
    "def greet():\n",
    "    \"\"\"create greet function\"\"\"\n",
    "    print(\"how are you\")"
   ]
  },
  {
   "cell_type": "code",
   "execution_count": 7,
   "id": "cadc7daf",
   "metadata": {},
   "outputs": [
    {
     "name": "stdout",
     "output_type": "stream",
     "text": [
      "how are you\n"
     ]
    }
   ],
   "source": [
    "greet()"
   ]
  },
  {
   "cell_type": "code",
   "execution_count": null,
   "id": "97c55f80",
   "metadata": {},
   "outputs": [],
   "source": [
    "#enhancement code:"
   ]
  },
  {
   "cell_type": "code",
   "execution_count": 8,
   "id": "a428807b",
   "metadata": {},
   "outputs": [],
   "source": [
    "def greet(username):  # parameter declaration\n",
    "    \"\"\"creat greet function\"\"\"\n",
    "    print(f\"hello,{username.title()}\")"
   ]
  },
  {
   "cell_type": "code",
   "execution_count": 9,
   "id": "26664a67",
   "metadata": {},
   "outputs": [
    {
     "ename": "NameError",
     "evalue": "name 'ravi' is not defined",
     "output_type": "error",
     "traceback": [
      "\u001b[1;31m---------------------------------------------------------------------------\u001b[0m",
      "\u001b[1;31mNameError\u001b[0m                                 Traceback (most recent call last)",
      "\u001b[1;32m~\\AppData\\Local\\Temp/ipykernel_17804/2272450069.py\u001b[0m in \u001b[0;36m<module>\u001b[1;34m\u001b[0m\n\u001b[1;32m----> 1\u001b[1;33m \u001b[0mgreet\u001b[0m\u001b[1;33m(\u001b[0m\u001b[0mravi\u001b[0m\u001b[1;33m)\u001b[0m\u001b[1;33m\u001b[0m\u001b[1;33m\u001b[0m\u001b[0m\n\u001b[0m",
      "\u001b[1;31mNameError\u001b[0m: name 'ravi' is not defined"
     ]
    }
   ],
   "source": [
    "greet(ravi) # here if u don't give quotes through error"
   ]
  },
  {
   "cell_type": "code",
   "execution_count": 10,
   "id": "5286888b",
   "metadata": {},
   "outputs": [
    {
     "name": "stdout",
     "output_type": "stream",
     "text": [
      "hello,Ravi\n"
     ]
    }
   ],
   "source": [
    "greet(\"ravi\")"
   ]
  },
  {
   "cell_type": "code",
   "execution_count": 11,
   "id": "4922484c",
   "metadata": {},
   "outputs": [
    {
     "name": "stdout",
     "output_type": "stream",
     "text": [
      "hello,Pinky\n"
     ]
    }
   ],
   "source": [
    "greet(\"pinky\")"
   ]
  },
  {
   "cell_type": "code",
   "execution_count": null,
   "id": "2ea0c68a",
   "metadata": {},
   "outputs": [],
   "source": [
    "# Types of arguments\n",
    "  1.Positional 2. keywords 3. Default"
   ]
  },
  {
   "cell_type": "code",
   "execution_count": null,
   "id": "ef187598",
   "metadata": {},
   "outputs": [],
   "source": [
    "1>positional--> defining the function with peramenters \n",
    "if your giving 2 perameters, have to fine 2 perameters.\n",
    "otherwise through error"
   ]
  },
  {
   "cell_type": "code",
   "execution_count": 19,
   "id": "5b963cf0",
   "metadata": {},
   "outputs": [],
   "source": [
    "def cars(car_name,car_color):\n",
    "    \"\"\"create cars details\"\"\"\n",
    "    print(f\"i have a {car_color}\")\n",
    "    print(f\"my car's name {car_name}\")"
   ]
  },
  {
   "cell_type": "code",
   "execution_count": 13,
   "id": "d7553aae",
   "metadata": {},
   "outputs": [
    {
     "ename": "TypeError",
     "evalue": "cars() missing 2 required positional arguments: 'car_color' and 'car_name'",
     "output_type": "error",
     "traceback": [
      "\u001b[1;31m---------------------------------------------------------------------------\u001b[0m",
      "\u001b[1;31mTypeError\u001b[0m                                 Traceback (most recent call last)",
      "\u001b[1;32m~\\AppData\\Local\\Temp/ipykernel_17804/1148295726.py\u001b[0m in \u001b[0;36m<module>\u001b[1;34m\u001b[0m\n\u001b[1;32m----> 1\u001b[1;33m \u001b[0mcars\u001b[0m\u001b[1;33m(\u001b[0m\u001b[1;33m)\u001b[0m\u001b[1;33m\u001b[0m\u001b[1;33m\u001b[0m\u001b[0m\n\u001b[0m",
      "\u001b[1;31mTypeError\u001b[0m: cars() missing 2 required positional arguments: 'car_color' and 'car_name'"
     ]
    }
   ],
   "source": [
    "cars() # here below no positional argumrnts given that's why error (if u give only 1 it through error)"
   ]
  },
  {
   "cell_type": "code",
   "execution_count": 14,
   "id": "0f3506dc",
   "metadata": {},
   "outputs": [
    {
     "name": "stdout",
     "output_type": "stream",
     "text": [
      "i have a blue\n",
      "my car's namehonda\n"
     ]
    }
   ],
   "source": [
    "cars('blue','honda') # if you change position , declaration/meaning changes"
   ]
  },
  {
   "cell_type": "code",
   "execution_count": 20,
   "id": "e37784e5",
   "metadata": {},
   "outputs": [
    {
     "name": "stdout",
     "output_type": "stream",
     "text": [
      "i have a red\n",
      "my car's name hundai\n"
     ]
    }
   ],
   "source": [
    "cars('hundai','red')"
   ]
  },
  {
   "cell_type": "code",
   "execution_count": null,
   "id": "0be1a02e",
   "metadata": {},
   "outputs": [],
   "source": []
  },
  {
   "cell_type": "code",
   "execution_count": null,
   "id": "8b32b652",
   "metadata": {},
   "outputs": [],
   "source": [
    "2>Keyword arguments"
   ]
  },
  {
   "cell_type": "code",
   "execution_count": 21,
   "id": "497894a1",
   "metadata": {},
   "outputs": [
    {
     "name": "stdout",
     "output_type": "stream",
     "text": [
      "i have a black\n",
      "my car's name bmw\n"
     ]
    }
   ],
   "source": [
    "cars('bmw','black')"
   ]
  },
  {
   "cell_type": "code",
   "execution_count": 22,
   "id": "08931a1c",
   "metadata": {},
   "outputs": [
    {
     "name": "stdout",
     "output_type": "stream",
     "text": [
      "i have a red\n",
      "my car's name benz\n"
     ]
    }
   ],
   "source": [
    "cars(car_name='benz',car_color='red')"
   ]
  },
  {
   "cell_type": "code",
   "execution_count": 23,
   "id": "65f59966",
   "metadata": {},
   "outputs": [
    {
     "name": "stdout",
     "output_type": "stream",
     "text": [
      "i have a white\n",
      "my car's name bmw\n"
     ]
    }
   ],
   "source": [
    "cars('bmw','white')"
   ]
  },
  {
   "cell_type": "code",
   "execution_count": 24,
   "id": "ae9dfa9d",
   "metadata": {},
   "outputs": [
    {
     "name": "stdout",
     "output_type": "stream",
     "text": [
      "i have a red\n",
      "my car's name honda\n"
     ]
    }
   ],
   "source": [
    "cars(car_name='honda',car_color='red')"
   ]
  },
  {
   "cell_type": "code",
   "execution_count": null,
   "id": "f6e88437",
   "metadata": {},
   "outputs": [],
   "source": []
  },
  {
   "cell_type": "code",
   "execution_count": null,
   "id": "2c5f5521",
   "metadata": {},
   "outputs": [],
   "source": [
    "3>Default Arguments:"
   ]
  },
  {
   "cell_type": "code",
   "execution_count": 29,
   "id": "ee2fb350",
   "metadata": {},
   "outputs": [
    {
     "ename": "SyntaxError",
     "evalue": "invalid syntax (Temp/ipykernel_17804/2981564171.py, line 1)",
     "output_type": "error",
     "traceback": [
      "\u001b[1;36m  File \u001b[1;32m\"C:\\Users\\Preet\\AppData\\Local\\Temp/ipykernel_17804/2981564171.py\"\u001b[1;36m, line \u001b[1;32m1\u001b[0m\n\u001b[1;33m    def cars(car_name='bmw',car_color='black')\u001b[0m\n\u001b[1;37m                                              ^\u001b[0m\n\u001b[1;31mSyntaxError\u001b[0m\u001b[1;31m:\u001b[0m invalid syntax\n"
     ]
    }
   ],
   "source": [
    "def cars(car_name='bmw',car_color='black')\n",
    "    \"\"\"create crs function\"\"\"\n",
    "    print(f\" i have {car_name}\")\n",
    "    print(f\"my {car_name}'s name{car_color}')"
   ]
  },
  {
   "cell_type": "code",
   "execution_count": null,
   "id": "28f567dd",
   "metadata": {},
   "outputs": [],
   "source": []
  },
  {
   "cell_type": "code",
   "execution_count": 25,
   "id": "08525661",
   "metadata": {},
   "outputs": [
    {
     "ename": "SyntaxError",
     "evalue": "invalid syntax (Temp/ipykernel_17804/207015363.py, line 1)",
     "output_type": "error",
     "traceback": [
      "\u001b[1;36m  File \u001b[1;32m\"C:\\Users\\Preet\\AppData\\Local\\Temp/ipykernel_17804/207015363.py\"\u001b[1;36m, line \u001b[1;32m1\u001b[0m\n\u001b[1;33m    def bike(biketype='bullet',bikecolor='black')\u001b[0m\n\u001b[1;37m                                                 ^\u001b[0m\n\u001b[1;31mSyntaxError\u001b[0m\u001b[1;31m:\u001b[0m invalid syntax\n"
     ]
    }
   ],
   "source": [
    "def bike(biketype='bullet', bikecolor='black')\n",
    "    \"\"\"creat information about bike\"\"\"\n",
    "    print(f\"I have a {bikename}\")\n",
    "    print(f\"my {bikename}'s color{bikecolor}\")\n"
   ]
  },
  {
   "cell_type": "code",
   "execution_count": 28,
   "id": "371976a1",
   "metadata": {},
   "outputs": [
    {
     "ename": "IndentationError",
     "evalue": "unindent does not match any outer indentation level (<tokenize>, line 3)",
     "output_type": "error",
     "traceback": [
      "\u001b[1;36m  File \u001b[1;32m\"<tokenize>\"\u001b[1;36m, line \u001b[1;32m3\u001b[0m\n\u001b[1;33m    print(f\"I have a {bikename}\")\u001b[0m\n\u001b[1;37m    ^\u001b[0m\n\u001b[1;31mIndentationError\u001b[0m\u001b[1;31m:\u001b[0m unindent does not match any outer indentation level\n"
     ]
    }
   ],
   "source": [
    "def bike(biketype='bullet', bikecolor='black')\n",
    "     \"\"\"creat information about bike\"\"\"\n",
    "    print(f\"I have a {bikename}\")\n",
    "    print(f\"my {bikename}'s color{bikecolor}\")\n"
   ]
  },
  {
   "cell_type": "code",
   "execution_count": 31,
   "id": "6f595114",
   "metadata": {},
   "outputs": [
    {
     "ename": "TypeError",
     "evalue": "cars() missing 1 required positional argument: 'car_color'",
     "output_type": "error",
     "traceback": [
      "\u001b[1;31m---------------------------------------------------------------------------\u001b[0m",
      "\u001b[1;31mTypeError\u001b[0m                                 Traceback (most recent call last)",
      "\u001b[1;32m~\\AppData\\Local\\Temp/ipykernel_17804/195680876.py\u001b[0m in \u001b[0;36m<module>\u001b[1;34m\u001b[0m\n\u001b[1;32m----> 1\u001b[1;33m \u001b[0mcars\u001b[0m\u001b[1;33m(\u001b[0m\u001b[1;34m'suzuki'\u001b[0m\u001b[1;33m)\u001b[0m\u001b[1;33m\u001b[0m\u001b[1;33m\u001b[0m\u001b[0m\n\u001b[0m",
      "\u001b[1;31mTypeError\u001b[0m: cars() missing 1 required positional argument: 'car_color'"
     ]
    }
   ],
   "source": [
    "cars('suzuki')"
   ]
  },
  {
   "cell_type": "code",
   "execution_count": null,
   "id": "f8182790",
   "metadata": {},
   "outputs": [],
   "source": []
  }
 ],
 "metadata": {
  "kernelspec": {
   "display_name": "Python 3 (ipykernel)",
   "language": "python",
   "name": "python3"
  },
  "language_info": {
   "codemirror_mode": {
    "name": "ipython",
    "version": 3
   },
   "file_extension": ".py",
   "mimetype": "text/x-python",
   "name": "python",
   "nbconvert_exporter": "python",
   "pygments_lexer": "ipython3",
   "version": "3.9.7"
  }
 },
 "nbformat": 4,
 "nbformat_minor": 5
}
