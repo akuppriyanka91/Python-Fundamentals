{
 "cells": [
  {
   "cell_type": "code",
   "execution_count": null,
   "id": "9ba9cae2",
   "metadata": {},
   "outputs": [],
   "source": [
    "#Understanding the conditional statements:"
   ]
  },
  {
   "cell_type": "code",
   "execution_count": null,
   "id": "67068a29",
   "metadata": {},
   "outputs": [],
   "source": [
    "#syn:-  if conditionla_test:\n",
    "        then print o/p.\n",
    "        if else conditions."
   ]
  },
  {
   "cell_type": "code",
   "execution_count": null,
   "id": "bfaa9005",
   "metadata": {},
   "outputs": [],
   "source": []
  },
  {
   "cell_type": "code",
   "execution_count": 1,
   "id": "904ac016",
   "metadata": {},
   "outputs": [],
   "source": [
    "cars=[\"audi\",\"benz\",\"bmw\",\"toyaota\",\"hundai\"]"
   ]
  },
  {
   "cell_type": "code",
   "execution_count": null,
   "id": "e1781747",
   "metadata": {
    "collapsed": true
   },
   "outputs": [],
   "source": [
    "#REQ. want to print only 'bmw' in uppercase and all others in title name? "
   ]
  },
  {
   "cell_type": "code",
   "execution_count": 2,
   "id": "ac49a55f",
   "metadata": {},
   "outputs": [
    {
     "name": "stdout",
     "output_type": "stream",
     "text": [
      "Audi\n",
      "Benz\n",
      "BMW\n",
      "Toyaota\n",
      "Hundai\n"
     ]
    }
   ],
   "source": [
    "for x in cars:\n",
    "    if x==\"bmw\":\n",
    "        print(x.upper())\n",
    "    else:\n",
    "        print(x.title())"
   ]
  },
  {
   "cell_type": "code",
   "execution_count": null,
   "id": "7bbac94a",
   "metadata": {},
   "outputs": [],
   "source": [
    "#above only bmw is in uppercase."
   ]
  },
  {
   "cell_type": "code",
   "execution_count": null,
   "id": "70b479f2",
   "metadata": {},
   "outputs": [],
   "source": [
    "#req. except bmw all other in uppercase?"
   ]
  },
  {
   "cell_type": "code",
   "execution_count": 7,
   "id": "bd739e19",
   "metadata": {},
   "outputs": [
    {
     "name": "stdout",
     "output_type": "stream",
     "text": [
      "Audi\n",
      "Benz\n",
      "Bmw\n",
      "Toyaota\n",
      "Hundai\n"
     ]
    }
   ],
   "source": [
    "for x in cars:\n",
    "    if x==(\"audi\",\"benz\",\"toyota\",\"hundai\"):    # not working\n",
    "        print(x.upper())\n",
    "    else:\n",
    "            print(x.title())\n",
    "    "
   ]
  },
  {
   "cell_type": "code",
   "execution_count": 10,
   "id": "4faec529",
   "metadata": {},
   "outputs": [
    {
     "name": "stdout",
     "output_type": "stream",
     "text": [
      "Audi\n",
      "Benz\n",
      "Bmw\n",
      "Toyaota\n",
      "Hundai\n"
     ]
    }
   ],
   "source": [
    "for x in cars:\n",
    "    if x==\"cars\":\n",
    "        print(x.upper())\n",
    "    else:\n",
    "        print(x.title())"
   ]
  },
  {
   "cell_type": "code",
   "execution_count": null,
   "id": "10241c4b",
   "metadata": {},
   "outputs": [],
   "source": [
    "#print audi in uppercase all othe in title?"
   ]
  },
  {
   "cell_type": "code",
   "execution_count": 11,
   "id": "e217b140",
   "metadata": {},
   "outputs": [
    {
     "name": "stdout",
     "output_type": "stream",
     "text": [
      "AUDI\n",
      "Benz\n",
      "Bmw\n",
      "Toyaota\n",
      "Hundai\n"
     ]
    }
   ],
   "source": [
    "for x in cars:\n",
    "    if x==\"audi\":\n",
    "        print(x.upper())\n",
    "    else:\n",
    "        print(x.title())"
   ]
  },
  {
   "cell_type": "code",
   "execution_count": null,
   "id": "f52f2e0d",
   "metadata": {},
   "outputs": [],
   "source": [
    "#print audi and benz in upper and other in title?"
   ]
  },
  {
   "cell_type": "code",
   "execution_count": 21,
   "id": "f6dffaf6",
   "metadata": {},
   "outputs": [
    {
     "ename": "SyntaxError",
     "evalue": "invalid syntax (Temp/ipykernel_21716/3896960185.py, line 2)",
     "output_type": "error",
     "traceback": [
      "\u001b[1;36m  File \u001b[1;32m\"C:\\Users\\rohit\\AppData\\Local\\Temp/ipykernel_21716/3896960185.py\"\u001b[1;36m, line \u001b[1;32m2\u001b[0m\n\u001b[1;33m    if x==\"audi\",\"benz\":\u001b[0m\n\u001b[1;37m                ^\u001b[0m\n\u001b[1;31mSyntaxError\u001b[0m\u001b[1;31m:\u001b[0m invalid syntax\n"
     ]
    }
   ],
   "source": [
    "for x in cars:            #how can we give morethan 1 name in conditions?\n",
    "    if x==\"audi\",\"benz\":\n",
    "        print(x.upper())\n",
    "    else:\n",
    "        print(x.title())"
   ]
  },
  {
   "cell_type": "code",
   "execution_count": null,
   "id": "d0a70392",
   "metadata": {},
   "outputs": [],
   "source": []
  },
  {
   "cell_type": "code",
   "execution_count": null,
   "id": "5604e0d3",
   "metadata": {},
   "outputs": [],
   "source": [
    "# case study: building a simple voting application:"
   ]
  },
  {
   "cell_type": "code",
   "execution_count": 22,
   "id": "61fff420",
   "metadata": {},
   "outputs": [],
   "source": [
    "age=19"
   ]
  },
  {
   "cell_type": "code",
   "execution_count": 23,
   "id": "6af5fa30",
   "metadata": {},
   "outputs": [
    {
     "name": "stdout",
     "output_type": "stream",
     "text": [
      "eligible for voting\n"
     ]
    }
   ],
   "source": [
    "if age>=18:\n",
    "    print(\"eligible for voting\")\n",
    "else:\n",
    "    print(\"not eligible for voting\")"
   ]
  },
  {
   "cell_type": "code",
   "execution_count": 24,
   "id": "6ed55ef9",
   "metadata": {},
   "outputs": [
    {
     "name": "stdout",
     "output_type": "stream",
     "text": [
      "not eligible to vote\n"
     ]
    }
   ],
   "source": [
    "age=10\n",
    "if age>=18:\n",
    "    print(\"eligible for vote\")\n",
    "else:\n",
    "    print(\"not eligible to vote\")"
   ]
  },
  {
   "cell_type": "code",
   "execution_count": 25,
   "id": "9bef3182",
   "metadata": {},
   "outputs": [
    {
     "name": "stdout",
     "output_type": "stream",
     "text": [
      "not eligible for vote\n"
     ]
    }
   ],
   "source": [
    "age=8\n",
    "if age<=18:\n",
    "    print(\"not eligible for vote\")\n",
    "else:\n",
    "    print(\"need to be 18 or more\")"
   ]
  },
  {
   "cell_type": "code",
   "execution_count": 26,
   "id": "06bddc18",
   "metadata": {},
   "outputs": [
    {
     "name": "stdout",
     "output_type": "stream",
     "text": [
      "need to be 18 or more\n"
     ]
    }
   ],
   "source": [
    "age=19\n",
    "if age<=18:\n",
    "    print(\"not eligible for vote\")\n",
    "else:\n",
    "    print(\"need to be 18 or more\")"
   ]
  },
  {
   "cell_type": "code",
   "execution_count": 28,
   "id": "a59fd4f7",
   "metadata": {},
   "outputs": [
    {
     "name": "stdout",
     "output_type": "stream",
     "text": [
      "eligible for vote\n"
     ]
    }
   ],
   "source": [
    "age=80\n",
    "if age>=18:\n",
    "    print(\"eligible for vote\")\n",
    "else:\n",
    "    print(\"need to be 18 or more\")"
   ]
  },
  {
   "cell_type": "code",
   "execution_count": null,
   "id": "1d96d030",
   "metadata": {},
   "outputs": [],
   "source": [
    "# Zen rules in python"
   ]
  },
  {
   "cell_type": "code",
   "execution_count": 29,
   "id": "b8fb4ce1",
   "metadata": {},
   "outputs": [
    {
     "name": "stdout",
     "output_type": "stream",
     "text": [
      "The Zen of Python, by Tim Peters\n",
      "\n",
      "Beautiful is better than ugly.\n",
      "Explicit is better than implicit.\n",
      "Simple is better than complex.\n",
      "Complex is better than complicated.\n",
      "Flat is better than nested.\n",
      "Sparse is better than dense.\n",
      "Readability counts.\n",
      "Special cases aren't special enough to break the rules.\n",
      "Although practicality beats purity.\n",
      "Errors should never pass silently.\n",
      "Unless explicitly silenced.\n",
      "In the face of ambiguity, refuse the temptation to guess.\n",
      "There should be one-- and preferably only one --obvious way to do it.\n",
      "Although that way may not be obvious at first unless you're Dutch.\n",
      "Now is better than never.\n",
      "Although never is often better than *right* now.\n",
      "If the implementation is hard to explain, it's a bad idea.\n",
      "If the implementation is easy to explain, it may be a good idea.\n",
      "Namespaces are one honking great idea -- let's do more of those!\n"
     ]
    }
   ],
   "source": [
    "import this"
   ]
  },
  {
   "cell_type": "code",
   "execution_count": null,
   "id": "c9bdbe44",
   "metadata": {},
   "outputs": [],
   "source": []
  }
 ],
 "metadata": {
  "kernelspec": {
   "display_name": "Python 3 (ipykernel)",
   "language": "python",
   "name": "python3"
  },
  "language_info": {
   "codemirror_mode": {
    "name": "ipython",
    "version": 3
   },
   "file_extension": ".py",
   "mimetype": "text/x-python",
   "name": "python",
   "nbconvert_exporter": "python",
   "pygments_lexer": "ipython3",
   "version": "3.9.7"
  }
 },
 "nbformat": 4,
 "nbformat_minor": 5
}
