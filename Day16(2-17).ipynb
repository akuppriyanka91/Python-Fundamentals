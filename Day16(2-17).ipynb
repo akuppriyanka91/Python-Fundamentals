{
 "cells": [
  {
   "cell_type": "code",
   "execution_count": null,
   "id": "379bccca",
   "metadata": {},
   "outputs": [],
   "source": [
    "1.How to \"read\" the data\n",
    "2. How to \"write\" the data\n",
    "3. How to \"append\" (add) the data"
   ]
  },
  {
   "cell_type": "code",
   "execution_count": null,
   "id": "89c4c0c7",
   "metadata": {},
   "outputs": [],
   "source": []
  },
  {
   "cell_type": "code",
   "execution_count": null,
   "id": "2b627ca2",
   "metadata": {},
   "outputs": [],
   "source": [
    "How \"WRITE\" the data to the file:-\n",
    "    write -->'w'"
   ]
  },
  {
   "cell_type": "code",
   "execution_count": 3,
   "id": "62250625",
   "metadata": {},
   "outputs": [],
   "source": [
    "data = 'pytext.txt'"
   ]
  },
  {
   "cell_type": "code",
   "execution_count": 5,
   "id": "d83ff7e0",
   "metadata": {},
   "outputs": [
    {
     "name": "stdout",
     "output_type": "stream",
     "text": [
      "Hi \n",
      "how are you\n",
      "doing well.\n"
     ]
    }
   ],
   "source": [
    "with open(data) as x:\n",
    "    con =x.read()\n",
    "    print(con)"
   ]
  },
  {
   "cell_type": "code",
   "execution_count": null,
   "id": "8052d87c",
   "metadata": {},
   "outputs": [],
   "source": [
    "# 1. for to write in the (ex. above file)  error(1)"
   ]
  },
  {
   "cell_type": "code",
   "execution_count": 13,
   "id": "c3e86a32",
   "metadata": {},
   "outputs": [
    {
     "ename": "ValueError",
     "evalue": "I/O operation on closed file.",
     "output_type": "error",
     "traceback": [
      "\u001b[1;31m---------------------------------------------------------------------------\u001b[0m",
      "\u001b[1;31mValueError\u001b[0m                                Traceback (most recent call last)",
      "\u001b[1;32m~\\AppData\\Local\\Temp/ipykernel_27444/2581537657.py\u001b[0m in \u001b[0;36m<module>\u001b[1;34m\u001b[0m\n\u001b[0;32m      1\u001b[0m \u001b[1;32mwith\u001b[0m \u001b[0mopen\u001b[0m\u001b[1;33m(\u001b[0m\u001b[0mdata\u001b[0m\u001b[1;33m,\u001b[0m\u001b[1;34m'w'\u001b[0m\u001b[1;33m)\u001b[0m \u001b[1;32mas\u001b[0m \u001b[0mfile_obeject\u001b[0m\u001b[1;33m:\u001b[0m\u001b[1;33m\u001b[0m\u001b[1;33m\u001b[0m\u001b[0m\n\u001b[1;32m----> 2\u001b[1;33m     \u001b[0mfile_object\u001b[0m\u001b[1;33m.\u001b[0m\u001b[0mwrite\u001b[0m\u001b[1;33m(\u001b[0m\u001b[1;34m\"python ismost demanding language\"\u001b[0m\u001b[1;33m)\u001b[0m\u001b[1;33m\u001b[0m\u001b[1;33m\u001b[0m\u001b[0m\n\u001b[0m",
      "\u001b[1;31mValueError\u001b[0m: I/O operation on closed file."
     ]
    }
   ],
   "source": [
    "with open(data,'w') as file_obeject:\n",
    "    file_object.write(\"python ismost demanding language\")"
   ]
  },
  {
   "cell_type": "code",
   "execution_count": null,
   "id": "a86dd3b5",
   "metadata": {},
   "outputs": [],
   "source": [
    "2.error(2) make sure to allign the things clear"
   ]
  },
  {
   "cell_type": "code",
   "execution_count": 15,
   "id": "95247b97",
   "metadata": {},
   "outputs": [
    {
     "ename": "IndentationError",
     "evalue": "unindent does not match any outer indentation level (<tokenize>, line 3)",
     "output_type": "error",
     "traceback": [
      "\u001b[1;36m  File \u001b[1;32m\"<tokenize>\"\u001b[1;36m, line \u001b[1;32m3\u001b[0m\n\u001b[1;33m    x.close()\u001b[0m\n\u001b[1;37m    ^\u001b[0m\n\u001b[1;31mIndentationError\u001b[0m\u001b[1;31m:\u001b[0m unindent does not match any outer indentation level\n"
     ]
    }
   ],
   "source": [
    "x = with open(data,'w') as file_obeject:\n",
    "        file_object.write(\"python ismost demanding language\")\n",
    "    x.close()"
   ]
  },
  {
   "cell_type": "code",
   "execution_count": null,
   "id": "525e3074",
   "metadata": {},
   "outputs": [],
   "source": [
    "3.error(3) missing 'w' below"
   ]
  },
  {
   "cell_type": "code",
   "execution_count": 16,
   "id": "c9e22041",
   "metadata": {
    "scrolled": true
   },
   "outputs": [
    {
     "ename": "UnsupportedOperation",
     "evalue": "not writable",
     "output_type": "error",
     "traceback": [
      "\u001b[1;31m---------------------------------------------------------------------------\u001b[0m",
      "\u001b[1;31mUnsupportedOperation\u001b[0m                      Traceback (most recent call last)",
      "\u001b[1;32m~\\AppData\\Local\\Temp/ipykernel_27444/2813234438.py\u001b[0m in \u001b[0;36m<module>\u001b[1;34m\u001b[0m\n\u001b[0;32m      1\u001b[0m \u001b[1;32mwith\u001b[0m \u001b[0mopen\u001b[0m\u001b[1;33m(\u001b[0m\u001b[1;34m'pytext.txt'\u001b[0m\u001b[1;33m)\u001b[0m \u001b[1;32mas\u001b[0m \u001b[0mf\u001b[0m\u001b[1;33m:\u001b[0m\u001b[1;33m\u001b[0m\u001b[1;33m\u001b[0m\u001b[0m\n\u001b[1;32m----> 2\u001b[1;33m     \u001b[0mf\u001b[0m\u001b[1;33m.\u001b[0m\u001b[0mwrite\u001b[0m\u001b[1;33m(\u001b[0m\u001b[1;34m\"python ismost demanding language\"\u001b[0m\u001b[1;33m)\u001b[0m\u001b[1;33m\u001b[0m\u001b[1;33m\u001b[0m\u001b[0m\n\u001b[0m",
      "\u001b[1;31mUnsupportedOperation\u001b[0m: not writable"
     ]
    }
   ],
   "source": [
    "with open('pytext.txt') as f:\n",
    "    f.write(\"python ismost demanding language\")"
   ]
  },
  {
   "cell_type": "code",
   "execution_count": 24,
   "id": "7fd2eb2c",
   "metadata": {},
   "outputs": [],
   "source": [
    "with open('pytext.txt','w') as f:\n",
    "    f.write(\"python ismost demanding language\")"
   ]
  },
  {
   "cell_type": "code",
   "execution_count": null,
   "id": "9363345a",
   "metadata": {},
   "outputs": [],
   "source": [
    "# if need to read the file"
   ]
  },
  {
   "cell_type": "code",
   "execution_count": null,
   "id": "3650fa2f",
   "metadata": {},
   "outputs": [],
   "source": []
  },
  {
   "cell_type": "code",
   "execution_count": null,
   "id": "cdf39226",
   "metadata": {},
   "outputs": [],
   "source": [
    "if we need old data and new data need to use \"append\""
   ]
  },
  {
   "cell_type": "code",
   "execution_count": null,
   "id": "39f7e813",
   "metadata": {},
   "outputs": [],
   "source": [
    "appending the data to file:-"
   ]
  },
  {
   "cell_type": "code",
   "execution_count": 28,
   "id": "03089e2e",
   "metadata": {},
   "outputs": [],
   "source": [
    "with open('pytext.txt','a') as f:\n",
    "    f.write(\"\\n python is now most demanding language\")"
   ]
  },
  {
   "cell_type": "code",
   "execution_count": 29,
   "id": "f4471674",
   "metadata": {},
   "outputs": [
    {
     "name": "stdout",
     "output_type": "stream",
     "text": [
      "python ismost demanding language\n",
      " python ismost demanding language\n",
      " python is now most demanding language\n"
     ]
    }
   ],
   "source": [
    "with open('pytext.txt') as file_object:\n",
    "    contents = file_object.read()\n",
    "    print(contents)"
   ]
  },
  {
   "cell_type": "code",
   "execution_count": 30,
   "id": "6cc001ab",
   "metadata": {},
   "outputs": [
    {
     "name": "stdout",
     "output_type": "stream",
     "text": [
      "python ismost demanding language\n",
      " python ismost demanding language\n",
      " python is now most demanding language\n"
     ]
    }
   ],
   "source": [
    "with open('pytext.txt') as file_object:\n",
    "    contents = file_object.read()\n",
    "    print(contents)"
   ]
  },
  {
   "cell_type": "code",
   "execution_count": null,
   "id": "a8e6f67d",
   "metadata": {},
   "outputs": [],
   "source": []
  },
  {
   "cell_type": "code",
   "execution_count": null,
   "id": "cc188932",
   "metadata": {},
   "outputs": [],
   "source": [
    "# Introduction to exceptional handling:-\n",
    "\n",
    "try except"
   ]
  },
  {
   "cell_type": "code",
   "execution_count": null,
   "id": "74f3d4bb",
   "metadata": {},
   "outputs": [],
   "source": []
  },
  {
   "cell_type": "code",
   "execution_count": 32,
   "id": "2b74d08d",
   "metadata": {},
   "outputs": [
    {
     "ename": "ZeroDivisionError",
     "evalue": "division by zero",
     "output_type": "error",
     "traceback": [
      "\u001b[1;31m---------------------------------------------------------------------------\u001b[0m",
      "\u001b[1;31mZeroDivisionError\u001b[0m                         Traceback (most recent call last)",
      "\u001b[1;32m~\\AppData\\Local\\Temp/ipykernel_27444/1365612884.py\u001b[0m in \u001b[0;36m<module>\u001b[1;34m\u001b[0m\n\u001b[0;32m      2\u001b[0m \u001b[0my\u001b[0m \u001b[1;33m=\u001b[0m \u001b[1;36m0\u001b[0m\u001b[1;33m\u001b[0m\u001b[1;33m\u001b[0m\u001b[0m\n\u001b[0;32m      3\u001b[0m \u001b[1;33m\u001b[0m\u001b[0m\n\u001b[1;32m----> 4\u001b[1;33m \u001b[0mz\u001b[0m\u001b[1;33m=\u001b[0m \u001b[0mx\u001b[0m\u001b[1;33m/\u001b[0m\u001b[0my\u001b[0m\u001b[1;33m\u001b[0m\u001b[1;33m\u001b[0m\u001b[0m\n\u001b[0m\u001b[0;32m      5\u001b[0m \u001b[1;33m\u001b[0m\u001b[0m\n\u001b[0;32m      6\u001b[0m \u001b[0mprint\u001b[0m\u001b[1;33m(\u001b[0m\u001b[0mz\u001b[0m\u001b[1;33m)\u001b[0m\u001b[1;33m\u001b[0m\u001b[1;33m\u001b[0m\u001b[0m\n",
      "\u001b[1;31mZeroDivisionError\u001b[0m: division by zero"
     ]
    }
   ],
   "source": [
    "x = 5\n",
    "y = 0\n",
    "\n",
    "z= x/y\n",
    "\n",
    "print(z)"
   ]
  },
  {
   "cell_type": "code",
   "execution_count": null,
   "id": "3d866ece",
   "metadata": {},
   "outputs": [],
   "source": [
    "above error to (hide) we use \"exceptional\""
   ]
  },
  {
   "cell_type": "code",
   "execution_count": 33,
   "id": "234ec902",
   "metadata": {},
   "outputs": [
    {
     "name": "stdout",
     "output_type": "stream",
     "text": [
      "pls don't try to divide a number by zero\n"
     ]
    }
   ],
   "source": [
    "try:\n",
    "    x = 5\n",
    "    y = 0\n",
    "    z = x/y\n",
    "    print(z)\n",
    "except ZeroDivisionError:\n",
    "    print(\"pls don't try to divide a number by zero\")"
   ]
  },
  {
   "cell_type": "code",
   "execution_count": null,
   "id": "dde7f6c7",
   "metadata": {},
   "outputs": [],
   "source": [
    "* here above if we know what error is going to be there, \n",
    "if you don't want the all lines error should be display we need to use \"exceptional\" (try except)"
   ]
  },
  {
   "cell_type": "code",
   "execution_count": null,
   "id": "b58e74e1",
   "metadata": {},
   "outputs": [],
   "source": []
  },
  {
   "cell_type": "code",
   "execution_count": 35,
   "id": "cda541e3",
   "metadata": {},
   "outputs": [
    {
     "ename": "FileNotFoundError",
     "evalue": "[Errno 2] No such file or directory: 'ptext.txt'",
     "output_type": "error",
     "traceback": [
      "\u001b[1;31m---------------------------------------------------------------------------\u001b[0m",
      "\u001b[1;31mFileNotFoundError\u001b[0m                         Traceback (most recent call last)",
      "\u001b[1;32m~\\AppData\\Local\\Temp/ipykernel_27444/846595808.py\u001b[0m in \u001b[0;36m<module>\u001b[1;34m\u001b[0m\n\u001b[1;32m----> 1\u001b[1;33m \u001b[1;32mwith\u001b[0m \u001b[0mopen\u001b[0m\u001b[1;33m(\u001b[0m\u001b[1;34m'ptext.txt'\u001b[0m\u001b[1;33m)\u001b[0m \u001b[1;32mas\u001b[0m \u001b[0mf\u001b[0m\u001b[1;33m:\u001b[0m\u001b[1;33m\u001b[0m\u001b[1;33m\u001b[0m\u001b[0m\n\u001b[0m\u001b[0;32m      2\u001b[0m     \u001b[0mcon\u001b[0m \u001b[1;33m=\u001b[0m \u001b[0mf\u001b[0m\u001b[1;33m.\u001b[0m\u001b[0mread\u001b[0m\u001b[1;33m(\u001b[0m\u001b[1;33m)\u001b[0m\u001b[1;33m\u001b[0m\u001b[1;33m\u001b[0m\u001b[0m\n\u001b[0;32m      3\u001b[0m     \u001b[0mprint\u001b[0m\u001b[1;33m(\u001b[0m\u001b[0mcon\u001b[0m\u001b[1;33m)\u001b[0m\u001b[1;33m\u001b[0m\u001b[1;33m\u001b[0m\u001b[0m\n",
      "\u001b[1;31mFileNotFoundError\u001b[0m: [Errno 2] No such file or directory: 'ptext.txt'"
     ]
    }
   ],
   "source": [
    "with open('ptext.txt') as f:\n",
    "    con = f.read()\n",
    "    print(con)"
   ]
  },
  {
   "cell_type": "code",
   "execution_count": null,
   "id": "fbfff444",
   "metadata": {},
   "outputs": [],
   "source": [
    "# if we don't know the file is there or not in the system we are getting above error."
   ]
  },
  {
   "cell_type": "code",
   "execution_count": null,
   "id": "8285c583",
   "metadata": {},
   "outputs": [],
   "source": [
    "by using exceptional we can hide error lines"
   ]
  },
  {
   "cell_type": "code",
   "execution_count": null,
   "id": "022e34c2",
   "metadata": {},
   "outputs": [],
   "source": []
  },
  {
   "cell_type": "code",
   "execution_count": 37,
   "id": "96c7dd43",
   "metadata": {},
   "outputs": [
    {
     "name": "stdout",
     "output_type": "stream",
     "text": [
      "pls check the file name before read in system\n"
     ]
    }
   ],
   "source": [
    "try:\n",
    "    \n",
    "    with open('ptext.txt') as f:\n",
    "        con = f.read()\n",
    "        print(con)\n",
    "        \n",
    "except FileNotFoundError:\n",
    "    print(\"pls check the file name before read in system\")"
   ]
  },
  {
   "cell_type": "code",
   "execution_count": null,
   "id": "6be0ae3e",
   "metadata": {},
   "outputs": [],
   "source": []
  },
  {
   "cell_type": "code",
   "execution_count": null,
   "id": "eb427b6a",
   "metadata": {},
   "outputs": [],
   "source": []
  },
  {
   "cell_type": "code",
   "execution_count": null,
   "id": "550516d4",
   "metadata": {},
   "outputs": [],
   "source": []
  }
 ],
 "metadata": {
  "kernelspec": {
   "display_name": "Python 3 (ipykernel)",
   "language": "python",
   "name": "python3"
  },
  "language_info": {
   "codemirror_mode": {
    "name": "ipython",
    "version": 3
   },
   "file_extension": ".py",
   "mimetype": "text/x-python",
   "name": "python",
   "nbconvert_exporter": "python",
   "pygments_lexer": "ipython3",
   "version": "3.9.7"
  }
 },
 "nbformat": 4,
 "nbformat_minor": 5
}
