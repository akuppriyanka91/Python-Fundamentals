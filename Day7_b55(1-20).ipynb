{
 "cells": [
  {
   "cell_type": "code",
   "execution_count": null,
   "id": "7fa3bd12",
   "metadata": {},
   "outputs": [],
   "source": [
    "#Continuatin of list data types:"
   ]
  },
  {
   "cell_type": "code",
   "execution_count": null,
   "id": "3f8deb42",
   "metadata": {},
   "outputs": [],
   "source": [
    "#Enhancement of the code"
   ]
  },
  {
   "cell_type": "code",
   "execution_count": 2,
   "id": "a093a2f7",
   "metadata": {},
   "outputs": [],
   "source": [
    "magicians=\"alice\",\"robert\",\"reena\""
   ]
  },
  {
   "cell_type": "code",
   "execution_count": null,
   "id": "9e20aa6f",
   "metadata": {},
   "outputs": [],
   "source": []
  },
  {
   "cell_type": "code",
   "execution_count": 4,
   "id": "4ba3ced8",
   "metadata": {},
   "outputs": [
    {
     "name": "stdout",
     "output_type": "stream",
     "text": [
      "Alice,that was a great trick \n",
      "\n",
      "i can't wait to see the next trick,Alice\n",
      "Robert,that was a great trick \n",
      "\n",
      "i can't wait to see the next trick,Robert\n",
      "Reena,that was a great trick \n",
      "\n",
      "i can't wait to see the next trick,Reena\n"
     ]
    }
   ],
   "source": [
    "for x in magicians:\n",
    "    print(f\"{x.title()},that was a great trick \\n\")\n",
    "    print(f\"i can't wait to see the next trick,{x.title()}\")"
   ]
  },
  {
   "cell_type": "code",
   "execution_count": 5,
   "id": "a89dde9c",
   "metadata": {},
   "outputs": [
    {
     "name": "stdout",
     "output_type": "stream",
     "text": [
      "Alice,that was a great trick\n",
      "i can't wait to see the next trick,Alice\n",
      "\n",
      "Robert,that was a great trick\n",
      "i can't wait to see the next trick,Robert\n",
      "\n",
      "Reena,that was a great trick\n",
      "i can't wait to see the next trick,Reena\n",
      "\n"
     ]
    }
   ],
   "source": [
    "for x in magicians:\n",
    "    print(f\"{x.title()},that was a great trick\")\n",
    "    print(f\"i can't wait to see the next trick,{x.title()}\\n\")"
   ]
  },
  {
   "cell_type": "code",
   "execution_count": null,
   "id": "5d9c0e70",
   "metadata": {},
   "outputs": [],
   "source": []
  },
  {
   "cell_type": "code",
   "execution_count": 6,
   "id": "11d0fc60",
   "metadata": {},
   "outputs": [
    {
     "name": "stdout",
     "output_type": "stream",
     "text": [
      "Alice,that was a great trick \n",
      "\n",
      "i can't wait to see the next trick,Alice\n",
      "Robert,that was a great trick \n",
      "\n",
      "i can't wait to see the next trick,Robert\n",
      "Reena,that was a great trick \n",
      "\n",
      "i can't wait to see the next trick,Reena\n",
      "thank you for the show\n"
     ]
    }
   ],
   "source": [
    "for x in magicians:\n",
    "    print(f\"{x.title()},that was a great trick \\n\")\n",
    "    print(f\"i can't wait to see the next trick,{x.title()}\")\n",
    "    \n",
    "print(\"thank you for the show\")"
   ]
  },
  {
   "cell_type": "code",
   "execution_count": null,
   "id": "d8e4b1e9",
   "metadata": {},
   "outputs": [],
   "source": []
  },
  {
   "cell_type": "code",
   "execution_count": null,
   "id": "5fe8c66d",
   "metadata": {},
   "outputs": [],
   "source": [
    "# Range function:"
   ]
  },
  {
   "cell_type": "code",
   "execution_count": null,
   "id": "a114b5d3",
   "metadata": {},
   "outputs": [],
   "source": [
    "#req. I wanat to print no.s 1 to 20 by using a for loop?"
   ]
  },
  {
   "cell_type": "code",
   "execution_count": 7,
   "id": "a7b056b5",
   "metadata": {},
   "outputs": [
    {
     "name": "stdout",
     "output_type": "stream",
     "text": [
      "1\n",
      "2\n",
      "3\n",
      "4\n",
      "5\n",
      "6\n",
      "7\n",
      "8\n",
      "9\n",
      "10\n",
      "11\n",
      "12\n",
      "13\n",
      "14\n",
      "15\n",
      "16\n",
      "17\n",
      "18\n",
      "19\n"
     ]
    }
   ],
   "source": [
    "for x in range(1,20):\n",
    "    print(x)"
   ]
  },
  {
   "cell_type": "code",
   "execution_count": null,
   "id": "1f0e8f6f",
   "metadata": {},
   "outputs": [],
   "source": [
    "# above last value always exclusive"
   ]
  },
  {
   "cell_type": "code",
   "execution_count": 9,
   "id": "85301830",
   "metadata": {
    "scrolled": true
   },
   "outputs": [
    {
     "name": "stdout",
     "output_type": "stream",
     "text": [
      "1\n",
      "2\n",
      "3\n",
      "4\n",
      "5\n",
      "6\n",
      "7\n",
      "8\n",
      "9\n",
      "10\n",
      "11\n",
      "12\n",
      "13\n",
      "14\n",
      "15\n",
      "16\n",
      "17\n",
      "18\n",
      "19\n",
      "20\n"
     ]
    }
   ],
   "source": [
    "for value in range(1,21):\n",
    "    print(value)"
   ]
  },
  {
   "cell_type": "code",
   "execution_count": null,
   "id": "353e99a2",
   "metadata": {},
   "outputs": [],
   "source": [
    "#req.i want to make a list of no.s 20?"
   ]
  },
  {
   "cell_type": "code",
   "execution_count": 10,
   "id": "321e19cd",
   "metadata": {},
   "outputs": [
    {
     "name": "stdout",
     "output_type": "stream",
     "text": [
      "[1, 2, 3, 4, 5, 6, 7, 8, 9, 10, 11, 12, 13, 14, 15, 16, 17, 18, 19, 20]\n"
     ]
    }
   ],
   "source": [
    "numbers=list(range(1,21))\n",
    "print(numbers)"
   ]
  },
  {
   "cell_type": "code",
   "execution_count": null,
   "id": "f9500063",
   "metadata": {},
   "outputs": [],
   "source": []
  },
  {
   "cell_type": "code",
   "execution_count": 14,
   "id": "573da59f",
   "metadata": {},
   "outputs": [
    {
     "name": "stdout",
     "output_type": "stream",
     "text": [
      "[2, 4, 6, 8, 10, 12, 14, 16, 18]\n"
     ]
    }
   ],
   "source": [
    "print(eve_numbers)"
   ]
  },
  {
   "cell_type": "code",
   "execution_count": null,
   "id": "4f74cb61",
   "metadata": {},
   "outputs": [],
   "source": [
    "#req. want to make a list of no. (20-50)?"
   ]
  },
  {
   "cell_type": "code",
   "execution_count": 11,
   "id": "d1b7738e",
   "metadata": {},
   "outputs": [
    {
     "name": "stdout",
     "output_type": "stream",
     "text": [
      "[20, 21, 22, 23, 24, 25, 26, 27, 28, 29, 30, 31, 32, 33, 34, 35, 36, 37, 38, 39, 40, 41, 42, 43, 44, 45, 46, 47, 48, 49]\n"
     ]
    }
   ],
   "source": [
    "count=list(range(20,50))\n",
    "print(count)"
   ]
  },
  {
   "cell_type": "code",
   "execution_count": null,
   "id": "1017c4ed",
   "metadata": {},
   "outputs": [],
   "source": [
    "#req. want to make a list of even no.s till 20?"
   ]
  },
  {
   "cell_type": "code",
   "execution_count": 17,
   "id": "6cc102fd",
   "metadata": {},
   "outputs": [],
   "source": [
    "eve_numbers=list(range(2,20,2)) # syn of range (startvalue,stopvalue,stepcount)"
   ]
  },
  {
   "cell_type": "code",
   "execution_count": 18,
   "id": "5091e09b",
   "metadata": {},
   "outputs": [
    {
     "name": "stdout",
     "output_type": "stream",
     "text": [
      "[2, 4, 6, 8, 10, 12, 14, 16, 18]\n"
     ]
    }
   ],
   "source": [
    "print(eve_numbers)"
   ]
  },
  {
   "cell_type": "code",
   "execution_count": 15,
   "id": "57a60360",
   "metadata": {},
   "outputs": [
    {
     "name": "stdout",
     "output_type": "stream",
     "text": [
      "[2, 3, 4, 5, 6, 7, 8, 9, 10, 11, 12, 13, 14, 15, 16, 17, 18, 19]\n"
     ]
    }
   ],
   "source": [
    "eve_numbers=list(range(2,20,1))   #here stepcount 1 so all no. printed in o\\p\n",
    "print(eve_numbers)"
   ]
  },
  {
   "cell_type": "code",
   "execution_count": null,
   "id": "ec89b992",
   "metadata": {},
   "outputs": [],
   "source": [
    "# req. want to print odd no. till 20?"
   ]
  },
  {
   "cell_type": "code",
   "execution_count": 19,
   "id": "096e256a",
   "metadata": {},
   "outputs": [
    {
     "name": "stdout",
     "output_type": "stream",
     "text": [
      "[1, 3, 5, 7, 9, 11, 13, 15, 17, 19]\n"
     ]
    }
   ],
   "source": [
    "odd_numbers=list(range(1,20,2))\n",
    "print(odd_numbers)"
   ]
  },
  {
   "cell_type": "code",
   "execution_count": 20,
   "id": "616ffdf3",
   "metadata": {},
   "outputs": [
    {
     "name": "stdout",
     "output_type": "stream",
     "text": [
      "[3, 4, 5, 6, 7, 8, 9, 10, 11, 12, 13, 14, 15, 16, 17, 18, 19]\n"
     ]
    }
   ],
   "source": [
    "odd_numbers=list(range(3,20,1))  #stepcount value =1 so range is count by 1.\n",
    "print(odd_numbers)"
   ]
  },
  {
   "cell_type": "code",
   "execution_count": null,
   "id": "e6c9ab6d",
   "metadata": {},
   "outputs": [],
   "source": []
  },
  {
   "cell_type": "code",
   "execution_count": null,
   "id": "a6de12cf",
   "metadata": {},
   "outputs": [],
   "source": []
  },
  {
   "cell_type": "code",
   "execution_count": null,
   "id": "aabb8c54",
   "metadata": {},
   "outputs": [],
   "source": []
  }
 ],
 "metadata": {
  "kernelspec": {
   "display_name": "Python 3 (ipykernel)",
   "language": "python",
   "name": "python3"
  },
  "language_info": {
   "codemirror_mode": {
    "name": "ipython",
    "version": 3
   },
   "file_extension": ".py",
   "mimetype": "text/x-python",
   "name": "python",
   "nbconvert_exporter": "python",
   "pygments_lexer": "ipython3",
   "version": "3.9.7"
  }
 },
 "nbformat": 4,
 "nbformat_minor": 5
}
