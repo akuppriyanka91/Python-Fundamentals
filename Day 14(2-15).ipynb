{
 "cells": [
  {
   "cell_type": "code",
   "execution_count": null,
   "id": "292ba8d9",
   "metadata": {},
   "outputs": [],
   "source": [
    "#Python classes:"
   ]
  },
  {
   "cell_type": "code",
   "execution_count": null,
   "id": "291d7bde",
   "metadata": {},
   "outputs": [],
   "source": [
    " class\n",
    "    methods\n",
    "    attributes\n",
    "    self\n",
    "    objects\n",
    "    "
   ]
  },
  {
   "cell_type": "code",
   "execution_count": null,
   "id": "79d3c6b0",
   "metadata": {},
   "outputs": [],
   "source": [
    "class:- is high level blueprint on the program\n",
    "    class is the keyword for defining the class.\n",
    "    "
   ]
  },
  {
   "cell_type": "code",
   "execution_count": null,
   "id": "1fec846d",
   "metadata": {},
   "outputs": [],
   "source": [
    "Method:- a funtion written inside the class termed as a method."
   ]
  },
  {
   "cell_type": "code",
   "execution_count": null,
   "id": "198de1b5",
   "metadata": {},
   "outputs": [],
   "source": [
    "attribute:- a variable written inside a class."
   ]
  },
  {
   "cell_type": "code",
   "execution_count": null,
   "id": "4f79dd02",
   "metadata": {},
   "outputs": [],
   "source": [
    "self:- a self is a temp placeholder for an object."
   ]
  },
  {
   "cell_type": "code",
   "execution_count": null,
   "id": "8d7a1ba8",
   "metadata": {},
   "outputs": [],
   "source": [
    "object:- is an entry/access point to the class method."
   ]
  },
  {
   "cell_type": "code",
   "execution_count": null,
   "id": "baf5be0f",
   "metadata": {},
   "outputs": [],
   "source": []
  },
  {
   "cell_type": "code",
   "execution_count": 7,
   "id": "15ad48c1",
   "metadata": {},
   "outputs": [],
   "source": [
    "class customerdetails():   #class\n",
    "    \n",
    "    def createname(self,username):  #method\n",
    "        self.username = username   # test.username = 'amar'\n",
    "        \n",
    "    def displayname(self):  #method\n",
    "        print(self.username)\n",
    "        \n",
    "    def greetname(self):  # method\n",
    "        print(f\"Hello,{self.username}\")"
   ]
  },
  {
   "cell_type": "code",
   "execution_count": null,
   "id": "911f5806",
   "metadata": {},
   "outputs": [],
   "source": []
  },
  {
   "cell_type": "code",
   "execution_count": 8,
   "id": "d5ee4743",
   "metadata": {},
   "outputs": [],
   "source": [
    "test = customerdetails()  #assigning an obj to class"
   ]
  },
  {
   "cell_type": "code",
   "execution_count": 9,
   "id": "65a9aef1",
   "metadata": {},
   "outputs": [],
   "source": [
    "test.createname('amar')"
   ]
  },
  {
   "cell_type": "code",
   "execution_count": 10,
   "id": "01b62f64",
   "metadata": {},
   "outputs": [
    {
     "name": "stdout",
     "output_type": "stream",
     "text": [
      "amar\n"
     ]
    }
   ],
   "source": [
    "test.displayname()"
   ]
  },
  {
   "cell_type": "code",
   "execution_count": 12,
   "id": "2a93bf3c",
   "metadata": {},
   "outputs": [
    {
     "name": "stdout",
     "output_type": "stream",
     "text": [
      "Hello,amar\n"
     ]
    }
   ],
   "source": [
    "test.greetname()"
   ]
  },
  {
   "cell_type": "code",
   "execution_count": null,
   "id": "e39b3487",
   "metadata": {},
   "outputs": [],
   "source": []
  },
  {
   "cell_type": "code",
   "execution_count": null,
   "id": "24554892",
   "metadata": {},
   "outputs": [],
   "source": [
    "#req. Define a Dog class\n",
    "It needs to have below details\n",
    "1.details (name,age,color) of dog\n",
    "2.jump\n",
    "3.roll_over"
   ]
  },
  {
   "cell_type": "code",
   "execution_count": null,
   "id": "c7b11068",
   "metadata": {},
   "outputs": [],
   "source": []
  },
  {
   "cell_type": "code",
   "execution_count": 13,
   "id": "60a46590",
   "metadata": {},
   "outputs": [],
   "source": [
    "class dog():\n",
    "    \n",
    "    def details(self,name,age,color):\n",
    "        self.name = name\n",
    "        self.age = age\n",
    "        self.color = color\n",
    "        \n",
    "    def jump(self):\n",
    "        print(f\"{self.name} is now jumping\")\n",
    "        \n",
    "    def roll_over(self):\n",
    "        print(f\"{self.name} is now rolling over\")\n",
    "              \n",
    "    "
   ]
  },
  {
   "cell_type": "code",
   "execution_count": 15,
   "id": "243ea861",
   "metadata": {},
   "outputs": [],
   "source": [
    "x = dog()"
   ]
  },
  {
   "cell_type": "code",
   "execution_count": 16,
   "id": "ff572e8b",
   "metadata": {},
   "outputs": [],
   "source": [
    "x.details('scooby','2','black')"
   ]
  },
  {
   "cell_type": "code",
   "execution_count": 17,
   "id": "2282a6e8",
   "metadata": {},
   "outputs": [
    {
     "name": "stdout",
     "output_type": "stream",
     "text": [
      "scooby is now jumping\n"
     ]
    }
   ],
   "source": [
    "x.jump()"
   ]
  },
  {
   "cell_type": "code",
   "execution_count": 18,
   "id": "c97e8cef",
   "metadata": {},
   "outputs": [
    {
     "name": "stdout",
     "output_type": "stream",
     "text": [
      "scooby is now rolling over\n"
     ]
    }
   ],
   "source": [
    "x.roll_over()"
   ]
  },
  {
   "cell_type": "code",
   "execution_count": null,
   "id": "1a552346",
   "metadata": {},
   "outputs": [],
   "source": []
  },
  {
   "cell_type": "code",
   "execution_count": null,
   "id": "2dc3a486",
   "metadata": {},
   "outputs": [],
   "source": [
    "#req. Define a car class\n",
    "1.details(name,color,model_no)\n",
    "2.speed \n",
    "3.interior\n",
    "4.race_car"
   ]
  },
  {
   "cell_type": "code",
   "execution_count": 19,
   "id": "fec60416",
   "metadata": {},
   "outputs": [],
   "source": [
    "class car():\n",
    "    \n",
    "    def details(self,name,color,model_no):\n",
    "        self.name = name\n",
    "        self.color = color\n",
    "        self.model_no = model_no\n",
    "        \n",
    "    def speed(self):\n",
    "        print(f\"{self.name} has a good speed\")\n",
    "        \n",
    "    def interior(self):\n",
    "        print(f\"{self.name} has nice interior\")\n",
    "        \n",
    "    def race_car(self):\n",
    "        print(f\"{self.name} is not a race car\")"
   ]
  },
  {
   "cell_type": "code",
   "execution_count": 21,
   "id": "dc8f387a",
   "metadata": {},
   "outputs": [],
   "source": [
    "x = car()"
   ]
  },
  {
   "cell_type": "code",
   "execution_count": 22,
   "id": "c960f744",
   "metadata": {},
   "outputs": [],
   "source": [
    "x.details('mazda','red','5')"
   ]
  },
  {
   "cell_type": "code",
   "execution_count": 23,
   "id": "d6651eed",
   "metadata": {},
   "outputs": [
    {
     "name": "stdout",
     "output_type": "stream",
     "text": [
      "mazda has a good speed\n"
     ]
    }
   ],
   "source": [
    "x.speed()"
   ]
  },
  {
   "cell_type": "code",
   "execution_count": 24,
   "id": "0cbb9d5a",
   "metadata": {},
   "outputs": [
    {
     "name": "stdout",
     "output_type": "stream",
     "text": [
      "mazda has nice interior\n"
     ]
    }
   ],
   "source": [
    "x.interior()"
   ]
  },
  {
   "cell_type": "code",
   "execution_count": 25,
   "id": "a1feeb6c",
   "metadata": {},
   "outputs": [
    {
     "name": "stdout",
     "output_type": "stream",
     "text": [
      "mazda is not a race car\n"
     ]
    }
   ],
   "source": [
    "x.race_car()"
   ]
  },
  {
   "cell_type": "code",
   "execution_count": null,
   "id": "5b799bc4",
   "metadata": {},
   "outputs": [],
   "source": []
  },
  {
   "cell_type": "code",
   "execution_count": null,
   "id": "35ca5846",
   "metadata": {},
   "outputs": [],
   "source": []
  },
  {
   "cell_type": "code",
   "execution_count": null,
   "id": "d3e10d72",
   "metadata": {},
   "outputs": [],
   "source": []
  },
  {
   "cell_type": "code",
   "execution_count": null,
   "id": "d1a74550",
   "metadata": {},
   "outputs": [],
   "source": []
  },
  {
   "cell_type": "code",
   "execution_count": null,
   "id": "4e1f6092",
   "metadata": {},
   "outputs": [],
   "source": []
  }
 ],
 "metadata": {
  "kernelspec": {
   "display_name": "Python 3 (ipykernel)",
   "language": "python",
   "name": "python3"
  },
  "language_info": {
   "codemirror_mode": {
    "name": "ipython",
    "version": 3
   },
   "file_extension": ".py",
   "mimetype": "text/x-python",
   "name": "python",
   "nbconvert_exporter": "python",
   "pygments_lexer": "ipython3",
   "version": "3.9.7"
  }
 },
 "nbformat": 4,
 "nbformat_minor": 5
}
