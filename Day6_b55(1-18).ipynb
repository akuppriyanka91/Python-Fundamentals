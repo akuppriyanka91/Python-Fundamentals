{
 "cells": [
  {
   "cell_type": "code",
   "execution_count": null,
   "id": "a3081b3b",
   "metadata": {},
   "outputs": [],
   "source": [
    "#Loop statements:-"
   ]
  },
  {
   "cell_type": "code",
   "execution_count": 1,
   "id": "7e6dc133",
   "metadata": {},
   "outputs": [],
   "source": [
    "students=['sunil','rukhsana','keerthi','ravi','ram','raj']"
   ]
  },
  {
   "cell_type": "code",
   "execution_count": 2,
   "id": "97a5f4f9",
   "metadata": {},
   "outputs": [
    {
     "name": "stdout",
     "output_type": "stream",
     "text": [
      "['sunil', 'rukhsana', 'keerthi', 'ravi', 'ram', 'raj']\n"
     ]
    }
   ],
   "source": [
    "print(students)"
   ]
  },
  {
   "cell_type": "code",
   "execution_count": null,
   "id": "e97e4c94",
   "metadata": {},
   "outputs": [],
   "source": [
    "# Req. I want to appriciate all the students in the above list ?"
   ]
  },
  {
   "cell_type": "code",
   "execution_count": 5,
   "id": "9fc4ef4b",
   "metadata": {},
   "outputs": [
    {
     "name": "stdout",
     "output_type": "stream",
     "text": [
      "keep up the good work {'Sunil'}\n"
     ]
    }
   ],
   "source": [
    "print(f\"keep up the good work\",{students[0].title()}) #o/p sunil has brackets because the double coutes ended b4 student "
   ]
  },
  {
   "cell_type": "code",
   "execution_count": 6,
   "id": "d127c858",
   "metadata": {},
   "outputs": [
    {
     "name": "stdout",
     "output_type": "stream",
     "text": [
      "keep up the good work,Sunil\n"
     ]
    }
   ],
   "source": [
    "print(f\"keep up the good work,{students[0].title()}\")"
   ]
  },
  {
   "cell_type": "code",
   "execution_count": 7,
   "id": "a2be5573",
   "metadata": {},
   "outputs": [
    {
     "name": "stdout",
     "output_type": "stream",
     "text": [
      "keep up the good work,Rukhsana\n"
     ]
    }
   ],
   "source": [
    "print(f\"keep up the good work,{students[1].title()}\")"
   ]
  },
  {
   "cell_type": "code",
   "execution_count": 8,
   "id": "74d64611",
   "metadata": {},
   "outputs": [
    {
     "name": "stdout",
     "output_type": "stream",
     "text": [
      "keep up the good work,Keerthi\n"
     ]
    }
   ],
   "source": [
    "print(f\"keep up the good work,{students[2].title()}\")"
   ]
  },
  {
   "cell_type": "code",
   "execution_count": null,
   "id": "773a0df3",
   "metadata": {},
   "outputs": [],
   "source": [
    "#above we have to send info 1 by 1."
   ]
  },
  {
   "cell_type": "code",
   "execution_count": null,
   "id": "faa9338e",
   "metadata": {},
   "outputs": [],
   "source": []
  },
  {
   "cell_type": "code",
   "execution_count": null,
   "id": "f0d823f1",
   "metadata": {},
   "outputs": [],
   "source": [
    "#Req. Now i want to send the same information to all the students how?"
   ]
  },
  {
   "cell_type": "code",
   "execution_count": null,
   "id": "67c8ed06",
   "metadata": {},
   "outputs": [],
   "source": [
    "# so, to avoid 1 by 1 students need to go all same messege at a time, we need to use \"for\" loop.\n",
    " syn:-  for tempvar in mainvar:\n",
    "            print(tempvar) "
   ]
  },
  {
   "cell_type": "code",
   "execution_count": null,
   "id": "017a58ea",
   "metadata": {},
   "outputs": [],
   "source": [
    "#here mainvar=students\n",
    " tempavar= we can use any other name(a,b,c,....ironman,spidrman....any )"
   ]
  },
  {
   "cell_type": "code",
   "execution_count": null,
   "id": "c1e752fd",
   "metadata": {},
   "outputs": [],
   "source": []
  },
  {
   "cell_type": "code",
   "execution_count": 9,
   "id": "6b64473d",
   "metadata": {},
   "outputs": [],
   "source": [
    "students=['sunil','rukhsana','keerthi','ravi','ram','raj']"
   ]
  },
  {
   "cell_type": "code",
   "execution_count": 10,
   "id": "70dd1f06",
   "metadata": {},
   "outputs": [
    {
     "name": "stdout",
     "output_type": "stream",
     "text": [
      "sunil\n",
      "rukhsana\n",
      "keerthi\n",
      "ravi\n",
      "ram\n",
      "raj\n"
     ]
    }
   ],
   "source": [
    "for x in students:\n",
    "    print(x)"
   ]
  },
  {
   "cell_type": "code",
   "execution_count": 14,
   "id": "45b2b454",
   "metadata": {},
   "outputs": [
    {
     "name": "stdout",
     "output_type": "stream",
     "text": [
      "keep up the good work,Raj\n",
      "keep up the good work,Raj\n",
      "keep up the good work,Raj\n",
      "keep up the good work,Raj\n",
      "keep up the good work,Raj\n",
      "keep up the good work,Raj\n"
     ]
    }
   ],
   "source": [
    "for y in students:\n",
    "    print(f\"keep up the good work,{x.title()}\")  #why o/p showing only last student ?"
   ]
  },
  {
   "cell_type": "code",
   "execution_count": 13,
   "id": "5f17d798",
   "metadata": {},
   "outputs": [
    {
     "name": "stdout",
     "output_type": "stream",
     "text": [
      " hello every one,Sunil\n",
      " hello every one,Rukhsana\n",
      " hello every one,Keerthi\n",
      " hello every one,Ravi\n",
      " hello every one,Ram\n",
      " hello every one,Raj\n"
     ]
    }
   ],
   "source": [
    "for z in students:\n",
    "    print(f\" hello every one,{z.title()}\")"
   ]
  },
  {
   "cell_type": "code",
   "execution_count": 16,
   "id": "a8f09c68",
   "metadata": {},
   "outputs": [
    {
     "name": "stdout",
     "output_type": "stream",
     "text": [
      "keep going on,Sunil\n",
      "keep going on,Rukhsana\n",
      "keep going on,Keerthi\n",
      "keep going on,Ravi\n",
      "keep going on,Ram\n",
      "keep going on,Raj\n"
     ]
    }
   ],
   "source": [
    "for y in students:\n",
    "    print(f\"keep going on,{y.title()}\")"
   ]
  },
  {
   "cell_type": "code",
   "execution_count": 18,
   "id": "46fee831",
   "metadata": {},
   "outputs": [
    {
     "name": "stdout",
     "output_type": "stream",
     "text": [
      "keep up the good work,Sunil\n",
      "keep up the good work,Rukhsana\n",
      "keep up the good work,Keerthi\n",
      "keep up the good work,Ravi\n",
      "keep up the good work,Ram\n",
      "keep up the good work,Raj\n"
     ]
    }
   ],
   "source": [
    "for ironman in students:\n",
    "    print(f\"keep up the good work,{ironman.title()}\")"
   ]
  },
  {
   "cell_type": "code",
   "execution_count": null,
   "id": "05d88a17",
   "metadata": {},
   "outputs": [],
   "source": [
    "# above o/p is 1 message for all."
   ]
  },
  {
   "cell_type": "code",
   "execution_count": null,
   "id": "3dbfb996",
   "metadata": {},
   "outputs": [],
   "source": [
    "# now if we need to tell/send more nessages then? (below.)"
   ]
  },
  {
   "cell_type": "code",
   "execution_count": 19,
   "id": "bafd92b4",
   "metadata": {},
   "outputs": [
    {
     "name": "stdout",
     "output_type": "stream",
     "text": [
      " keep up the good eork,Sunil\n",
      "and send me the day to day practice github link,Sunil\n",
      " keep up the good eork,Rukhsana\n",
      "and send me the day to day practice github link,Rukhsana\n",
      " keep up the good eork,Keerthi\n",
      "and send me the day to day practice github link,Keerthi\n",
      " keep up the good eork,Ravi\n",
      "and send me the day to day practice github link,Ravi\n",
      " keep up the good eork,Ram\n",
      "and send me the day to day practice github link,Ram\n",
      " keep up the good eork,Raj\n",
      "and send me the day to day practice github link,Raj\n"
     ]
    }
   ],
   "source": [
    " for x in students:\n",
    "        print(f\" keep up the good eork,{x.title()}\")\n",
    "        print(f\"and send me the day to day practice github link,{x.title()}\")"
   ]
  },
  {
   "cell_type": "code",
   "execution_count": null,
   "id": "8c83b6fd",
   "metadata": {},
   "outputs": [],
   "source": [
    "# to see clear/ seperate messge need \"\\n\""
   ]
  },
  {
   "cell_type": "code",
   "execution_count": 28,
   "id": "5357722d",
   "metadata": {},
   "outputs": [
    {
     "name": "stdout",
     "output_type": "stream",
     "text": [
      " keep up the good eork,Sunil\n",
      "\n",
      "and send me the day to day practice github link,Sunil\n",
      " keep up the good eork,Rukhsana\n",
      "\n",
      "and send me the day to day practice github link,Rukhsana\n",
      " keep up the good eork,Keerthi\n",
      "\n",
      "and send me the day to day practice github link,Keerthi\n",
      " keep up the good eork,Ravi\n",
      "\n",
      "and send me the day to day practice github link,Ravi\n",
      " keep up the good eork,Ram\n",
      "\n",
      "and send me the day to day practice github link,Ram\n",
      " keep up the good eork,Raj\n",
      "\n",
      "and send me the day to day practice github link,Raj\n"
     ]
    }
   ],
   "source": [
    "for x in students:\n",
    "    print(f\" keep up the good eork,{x.title()}\\n\")\n",
    "    print(f\"and send me the day to day practice github link,{x.title()}\")"
   ]
  },
  {
   "cell_type": "code",
   "execution_count": 29,
   "id": "6ac2994a",
   "metadata": {},
   "outputs": [
    {
     "name": "stdout",
     "output_type": "stream",
     "text": [
      " keep up the good eork,Sunil\n",
      "and send me the day to day practice github link,Sunil\n",
      "\n",
      " keep up the good eork,Rukhsana\n",
      "and send me the day to day practice github link,Rukhsana\n",
      "\n",
      " keep up the good eork,Keerthi\n",
      "and send me the day to day practice github link,Keerthi\n",
      "\n",
      " keep up the good eork,Ravi\n",
      "and send me the day to day practice github link,Ravi\n",
      "\n",
      " keep up the good eork,Ram\n",
      "and send me the day to day practice github link,Ram\n",
      "\n",
      " keep up the good eork,Raj\n",
      "and send me the day to day practice github link,Raj\n",
      "\n"
     ]
    }
   ],
   "source": [
    "for x in students:\n",
    "    print(f\" keep up the good eork,{x.title()}\")\n",
    "    print(f\"and send me the day to day practice github link,{x.title()}\\n\")"
   ]
  },
  {
   "cell_type": "code",
   "execution_count": null,
   "id": "161366fa",
   "metadata": {},
   "outputs": [],
   "source": [
    "# in above list with all that messages we need to send 1 end message to all?"
   ]
  },
  {
   "cell_type": "code",
   "execution_count": 31,
   "id": "ddd6e130",
   "metadata": {},
   "outputs": [
    {
     "name": "stdout",
     "output_type": "stream",
     "text": [
      " keep up the good eork,Sunil\n",
      "and send me the day to day practice github link,Sunil\n",
      "\n",
      " keep up the good eork,Rukhsana\n",
      "and send me the day to day practice github link,Rukhsana\n",
      "\n",
      " keep up the good eork,Keerthi\n",
      "and send me the day to day practice github link,Keerthi\n",
      "\n",
      " keep up the good eork,Ravi\n",
      "and send me the day to day practice github link,Ravi\n",
      "\n",
      " keep up the good eork,Ram\n",
      "and send me the day to day practice github link,Ram\n",
      "\n",
      " keep up the good eork,Raj\n",
      "and send me the day to day practice github link,Raj\n",
      "\n",
      " Thank you everyone,Raj\n"
     ]
    }
   ],
   "source": [
    "for x in students:\n",
    "    print(f\" keep up the good eork,{x.title()}\")\n",
    "    print(f\"and send me the day to day practice github link,{x.title()}\\n\")\n",
    "\n",
    "print(f\" Thank you everyone,{x.title()}\")"
   ]
  },
  {
   "cell_type": "code",
   "execution_count": 34,
   "id": "253cd964",
   "metadata": {},
   "outputs": [
    {
     "name": "stdout",
     "output_type": "stream",
     "text": [
      " hi everyone,Sunil\n",
      " how are you doing,Sunil\n",
      "\n",
      " hi everyone,Rukhsana\n",
      " how are you doing,Rukhsana\n",
      "\n",
      " hi everyone,Keerthi\n",
      " how are you doing,Keerthi\n",
      "\n",
      " hi everyone,Ravi\n",
      " how are you doing,Ravi\n",
      "\n",
      " hi everyone,Ram\n",
      " how are you doing,Ram\n",
      "\n",
      " hi everyone,Raj\n",
      " how are you doing,Raj\n",
      "\n",
      "Thank you\n"
     ]
    }
   ],
   "source": [
    "for a in students:\n",
    "    print(f\" hi everyone,{a.title()}\")\n",
    "    print(f\" how are you doing,{a.title()}\\n\")     # here print statement are inside the loop \n",
    "\n",
    "print(\"Thank you\")            # here print statements are outside the loop"
   ]
  },
  {
   "cell_type": "code",
   "execution_count": null,
   "id": "6dd4dc13",
   "metadata": {},
   "outputs": [],
   "source": []
  },
  {
   "cell_type": "code",
   "execution_count": null,
   "id": "7ce9fbaf",
   "metadata": {},
   "outputs": [],
   "source": []
  },
  {
   "cell_type": "code",
   "execution_count": null,
   "id": "5f0d6bb4",
   "metadata": {},
   "outputs": [],
   "source": []
  }
 ],
 "metadata": {
  "kernelspec": {
   "display_name": "Python 3 (ipykernel)",
   "language": "python",
   "name": "python3"
  },
  "language_info": {
   "codemirror_mode": {
    "name": "ipython",
    "version": 3
   },
   "file_extension": ".py",
   "mimetype": "text/x-python",
   "name": "python",
   "nbconvert_exporter": "python",
   "pygments_lexer": "ipython3",
   "version": "3.9.7"
  }
 },
 "nbformat": 4,
 "nbformat_minor": 5
}
