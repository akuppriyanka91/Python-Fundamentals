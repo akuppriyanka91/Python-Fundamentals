{
 "cells": [
  {
   "cell_type": "code",
   "execution_count": null,
   "id": "7cc1c44f",
   "metadata": {},
   "outputs": [],
   "source": [
    "#Introduction to \"tuple\" datatype:"
   ]
  },
  {
   "cell_type": "code",
   "execution_count": null,
   "id": "ee66985b",
   "metadata": {},
   "outputs": [],
   "source": [
    "Def:-An immutable list is called as a \"tuple\"."
   ]
  },
  {
   "cell_type": "code",
   "execution_count": null,
   "id": "44492530",
   "metadata": {},
   "outputs": [],
   "source": [
    "Classification:-It is classified as immutable datatype."
   ]
  },
  {
   "cell_type": "code",
   "execution_count": null,
   "id": "8308d8ba",
   "metadata": {},
   "outputs": [],
   "source": [
    "#req.how to define tuple?"
   ]
  },
  {
   "cell_type": "code",
   "execution_count": 1,
   "id": "230aafb0",
   "metadata": {},
   "outputs": [],
   "source": [
    "students=('priyanka','keerthi','naveen','kumar')"
   ]
  },
  {
   "cell_type": "code",
   "execution_count": 2,
   "id": "2692ec4c",
   "metadata": {},
   "outputs": [
    {
     "name": "stdout",
     "output_type": "stream",
     "text": [
      "('priyanka', 'keerthi', 'naveen', 'kumar')\n"
     ]
    }
   ],
   "source": [
    "print(students)"
   ]
  },
  {
   "cell_type": "code",
   "execution_count": null,
   "id": "dedd4bd7",
   "metadata": {},
   "outputs": [],
   "source": []
  },
  {
   "cell_type": "code",
   "execution_count": null,
   "id": "54ce9e4f",
   "metadata": {},
   "outputs": [],
   "source": [
    "#req. if i want print only naveen name?"
   ]
  },
  {
   "cell_type": "code",
   "execution_count": 4,
   "id": "e9bccca8",
   "metadata": {},
   "outputs": [
    {
     "name": "stdout",
     "output_type": "stream",
     "text": [
      "naveen\n"
     ]
    }
   ],
   "source": [
    "print(students[2])"
   ]
  },
  {
   "cell_type": "code",
   "execution_count": 5,
   "id": "54c06a4e",
   "metadata": {},
   "outputs": [
    {
     "data": {
      "text/plain": [
       "tuple"
      ]
     },
     "execution_count": 5,
     "metadata": {},
     "output_type": "execute_result"
    }
   ],
   "source": [
    "type(students)     #to identify which datatype it is using 'type'"
   ]
  },
  {
   "cell_type": "code",
   "execution_count": null,
   "id": "7c9aff39",
   "metadata": {},
   "outputs": [],
   "source": []
  },
  {
   "cell_type": "code",
   "execution_count": null,
   "id": "dd9b411d",
   "metadata": {},
   "outputs": [],
   "source": [
    "# defference between tuple and list:"
   ]
  },
  {
   "cell_type": "code",
   "execution_count": null,
   "id": "dd2d3107",
   "metadata": {},
   "outputs": [],
   "source": [
    "#Req.change the name priyanka to riya?"
   ]
  },
  {
   "cell_type": "code",
   "execution_count": 6,
   "id": "576491b1",
   "metadata": {},
   "outputs": [
    {
     "ename": "TypeError",
     "evalue": "'tuple' object does not support item assignment",
     "output_type": "error",
     "traceback": [
      "\u001b[1;31m---------------------------------------------------------------------------\u001b[0m",
      "\u001b[1;31mTypeError\u001b[0m                                 Traceback (most recent call last)",
      "\u001b[1;32m~\\AppData\\Local\\Temp/ipykernel_7064/720770523.py\u001b[0m in \u001b[0;36m<module>\u001b[1;34m\u001b[0m\n\u001b[1;32m----> 1\u001b[1;33m \u001b[0mstudents\u001b[0m\u001b[1;33m[\u001b[0m\u001b[1;36m0\u001b[0m\u001b[1;33m]\u001b[0m\u001b[1;33m=\u001b[0m\u001b[1;34m'riya'\u001b[0m\u001b[1;33m\u001b[0m\u001b[1;33m\u001b[0m\u001b[0m\n\u001b[0m",
      "\u001b[1;31mTypeError\u001b[0m: 'tuple' object does not support item assignment"
     ]
    }
   ],
   "source": [
    "students[0]='riya'   #because immutable.(tuple)"
   ]
  },
  {
   "cell_type": "code",
   "execution_count": null,
   "id": "b81bc59b",
   "metadata": {},
   "outputs": [],
   "source": []
  },
  {
   "cell_type": "code",
   "execution_count": 7,
   "id": "76c2eebf",
   "metadata": {},
   "outputs": [
    {
     "name": "stdout",
     "output_type": "stream",
     "text": [
      "(200, 50)\n"
     ]
    }
   ],
   "source": [
    "dimentions=(200,50)   # which we are not going to change anything.\n",
    "print(dimentions)"
   ]
  },
  {
   "cell_type": "code",
   "execution_count": 8,
   "id": "bcc0067a",
   "metadata": {},
   "outputs": [],
   "source": [
    "dimentions=(250) # if u want to change 200 to 250 we cann't change."
   ]
  },
  {
   "cell_type": "code",
   "execution_count": 9,
   "id": "81320934",
   "metadata": {},
   "outputs": [
    {
     "name": "stdout",
     "output_type": "stream",
     "text": [
      "250\n"
     ]
    }
   ],
   "source": [
    "print(dimentions) #previous dimentions data is gone."
   ]
  },
  {
   "cell_type": "code",
   "execution_count": null,
   "id": "4c93ee46",
   "metadata": {},
   "outputs": [],
   "source": []
  },
  {
   "cell_type": "code",
   "execution_count": 10,
   "id": "225a4711",
   "metadata": {},
   "outputs": [
    {
     "name": "stdout",
     "output_type": "stream",
     "text": [
      "('priyanka', 'keerthi', 'naveen', 'kumar')\n"
     ]
    }
   ],
   "source": [
    "print(students)"
   ]
  },
  {
   "cell_type": "code",
   "execution_count": null,
   "id": "718288b7",
   "metadata": {},
   "outputs": [],
   "source": [
    "#implement forloop on top of tuple?"
   ]
  },
  {
   "cell_type": "code",
   "execution_count": 11,
   "id": "81dfaf32",
   "metadata": {},
   "outputs": [
    {
     "name": "stdout",
     "output_type": "stream",
     "text": [
      "priyanka\n",
      "keerthi\n",
      "naveen\n",
      "kumar\n"
     ]
    }
   ],
   "source": [
    "for x in students:\n",
    "    print(x)        #this exicution process called as 'iterstion'"
   ]
  },
  {
   "cell_type": "code",
   "execution_count": null,
   "id": "38353a9e",
   "metadata": {},
   "outputs": [],
   "source": []
  },
  {
   "cell_type": "code",
   "execution_count": null,
   "id": "8fc8e5a3",
   "metadata": {},
   "outputs": [],
   "source": [
    "#Dictionary Datatype:"
   ]
  },
  {
   "cell_type": "code",
   "execution_count": null,
   "id": "3b814a6d",
   "metadata": {},
   "outputs": [],
   "source": [
    "#Def:-Dictionary is a combination of (key,value pairs)"
   ]
  },
  {
   "cell_type": "code",
   "execution_count": null,
   "id": "2d0b6f15",
   "metadata": {},
   "outputs": [],
   "source": [
    "#classification: It is classified as a \"mutable\" datatype."
   ]
  },
  {
   "cell_type": "code",
   "execution_count": null,
   "id": "df2aec03",
   "metadata": {},
   "outputs": [],
   "source": []
  },
  {
   "cell_type": "code",
   "execution_count": null,
   "id": "fc764c76",
   "metadata": {},
   "outputs": [],
   "source": [
    "#Req.to define dicitionary--> \"{}\""
   ]
  },
  {
   "cell_type": "code",
   "execution_count": null,
   "id": "95b3599b",
   "metadata": {},
   "outputs": [],
   "source": [
    "# req.i want to build alien game?  (alien game==> like color, patten,color....)"
   ]
  },
  {
   "cell_type": "code",
   "execution_count": 12,
   "id": "79ffafd6",
   "metadata": {},
   "outputs": [
    {
     "name": "stdout",
     "output_type": "stream",
     "text": [
      "{'color': 'green', 'points': 5}\n"
     ]
    }
   ],
   "source": [
    "alien={'color':'green','points':5}\n",
    "print(alien)"
   ]
  },
  {
   "cell_type": "code",
   "execution_count": null,
   "id": "10ab7dce",
   "metadata": {},
   "outputs": [],
   "source": []
  },
  {
   "cell_type": "code",
   "execution_count": null,
   "id": "6909e4f4",
   "metadata": {},
   "outputs": [],
   "source": [
    "#Req. how to access the value from dictionary?"
   ]
  },
  {
   "cell_type": "code",
   "execution_count": 13,
   "id": "aff68596",
   "metadata": {},
   "outputs": [
    {
     "ename": "KeyError",
     "evalue": "'colors'",
     "output_type": "error",
     "traceback": [
      "\u001b[1;31m---------------------------------------------------------------------------\u001b[0m",
      "\u001b[1;31mKeyError\u001b[0m                                  Traceback (most recent call last)",
      "\u001b[1;32m~\\AppData\\Local\\Temp/ipykernel_7064/4199247337.py\u001b[0m in \u001b[0;36m<module>\u001b[1;34m\u001b[0m\n\u001b[1;32m----> 1\u001b[1;33m \u001b[0mprint\u001b[0m\u001b[1;33m(\u001b[0m\u001b[0malien\u001b[0m\u001b[1;33m[\u001b[0m\u001b[1;34m\"colors\"\u001b[0m\u001b[1;33m]\u001b[0m\u001b[1;33m)\u001b[0m\u001b[1;33m\u001b[0m\u001b[1;33m\u001b[0m\u001b[0m\n\u001b[0m",
      "\u001b[1;31mKeyError\u001b[0m: 'colors'"
     ]
    }
   ],
   "source": [
    "print(alien[\"colors\"])   #error double quotes"
   ]
  },
  {
   "cell_type": "code",
   "execution_count": 18,
   "id": "34a9473d",
   "metadata": {},
   "outputs": [
    {
     "name": "stdout",
     "output_type": "stream",
     "text": [
      "green\n"
     ]
    }
   ],
   "source": [
    "print(alien['color'])"
   ]
  },
  {
   "cell_type": "code",
   "execution_count": null,
   "id": "1ecf38d2",
   "metadata": {},
   "outputs": [],
   "source": [
    "# req.i want to know points only?"
   ]
  },
  {
   "cell_type": "code",
   "execution_count": 19,
   "id": "6bb5577a",
   "metadata": {},
   "outputs": [
    {
     "name": "stdout",
     "output_type": "stream",
     "text": [
      "5\n"
     ]
    }
   ],
   "source": [
    "print(alien['points'])  #giv ethe key get the value."
   ]
  },
  {
   "cell_type": "code",
   "execution_count": null,
   "id": "5da4d4a0",
   "metadata": {},
   "outputs": [],
   "source": [
    "#q. can we give value and get key ?=== no"
   ]
  },
  {
   "cell_type": "code",
   "execution_count": 20,
   "id": "0a5d956d",
   "metadata": {},
   "outputs": [
    {
     "ename": "KeyError",
     "evalue": "'5'",
     "output_type": "error",
     "traceback": [
      "\u001b[1;31m---------------------------------------------------------------------------\u001b[0m",
      "\u001b[1;31mKeyError\u001b[0m                                  Traceback (most recent call last)",
      "\u001b[1;32m~\\AppData\\Local\\Temp/ipykernel_7064/2748607294.py\u001b[0m in \u001b[0;36m<module>\u001b[1;34m\u001b[0m\n\u001b[1;32m----> 1\u001b[1;33m \u001b[0mprint\u001b[0m\u001b[1;33m(\u001b[0m\u001b[0malien\u001b[0m\u001b[1;33m[\u001b[0m\u001b[1;34m'5'\u001b[0m\u001b[1;33m]\u001b[0m\u001b[1;33m)\u001b[0m\u001b[1;33m\u001b[0m\u001b[1;33m\u001b[0m\u001b[0m\n\u001b[0m",
      "\u001b[1;31mKeyError\u001b[0m: '5'"
     ]
    }
   ],
   "source": [
    "print(alien['5'])"
   ]
  },
  {
   "cell_type": "code",
   "execution_count": 21,
   "id": "0c8a6eaf",
   "metadata": {},
   "outputs": [
    {
     "ename": "KeyError",
     "evalue": "'green'",
     "output_type": "error",
     "traceback": [
      "\u001b[1;31m---------------------------------------------------------------------------\u001b[0m",
      "\u001b[1;31mKeyError\u001b[0m                                  Traceback (most recent call last)",
      "\u001b[1;32m~\\AppData\\Local\\Temp/ipykernel_7064/3756911678.py\u001b[0m in \u001b[0;36m<module>\u001b[1;34m\u001b[0m\n\u001b[1;32m----> 1\u001b[1;33m \u001b[0mprint\u001b[0m\u001b[1;33m(\u001b[0m\u001b[0malien\u001b[0m\u001b[1;33m[\u001b[0m\u001b[1;34m'green'\u001b[0m\u001b[1;33m]\u001b[0m\u001b[1;33m)\u001b[0m\u001b[1;33m\u001b[0m\u001b[1;33m\u001b[0m\u001b[0m\n\u001b[0m",
      "\u001b[1;31mKeyError\u001b[0m: 'green'"
     ]
    }
   ],
   "source": [
    "print(alien['green']) #we can't give value to get the key."
   ]
  },
  {
   "cell_type": "code",
   "execution_count": null,
   "id": "d730c896",
   "metadata": {},
   "outputs": [],
   "source": []
  },
  {
   "cell_type": "code",
   "execution_count": null,
   "id": "c27a35ca",
   "metadata": {},
   "outputs": [],
   "source": [
    "#. want to declare start position of alien?"
   ]
  },
  {
   "cell_type": "code",
   "execution_count": null,
   "id": "0eeb1ff2",
   "metadata": {},
   "outputs": [],
   "source": [
    "#Q. how to 'add' a new key to value?"
   ]
  },
  {
   "cell_type": "code",
   "execution_count": 22,
   "id": "62fc210d",
   "metadata": {},
   "outputs": [
    {
     "name": "stdout",
     "output_type": "stream",
     "text": [
      "{'color': 'green', 'points': 5, 'start_position': 0}\n"
     ]
    }
   ],
   "source": [
    "alien['start_position']=0\n",
    "print(alien)"
   ]
  },
  {
   "cell_type": "code",
   "execution_count": 23,
   "id": "a7a66693",
   "metadata": {},
   "outputs": [
    {
     "name": "stdout",
     "output_type": "stream",
     "text": [
      "{'color': 'green', 'points': 5, 'start_position': 0, 'current_position': 2}\n"
     ]
    }
   ],
   "source": [
    "alien['current_position']=2\n",
    "print(alien)"
   ]
  },
  {
   "cell_type": "code",
   "execution_count": 24,
   "id": "7ddd042c",
   "metadata": {},
   "outputs": [
    {
     "name": "stdout",
     "output_type": "stream",
     "text": [
      "{'color': 'green', 'points': 5, 'start_position': 0, 'current_position': 2, 'end_position': 10}\n"
     ]
    }
   ],
   "source": [
    "alien['end_position']=10\n",
    "print(alien)"
   ]
  },
  {
   "cell_type": "code",
   "execution_count": null,
   "id": "d5acd6a3",
   "metadata": {},
   "outputs": [],
   "source": []
  },
  {
   "cell_type": "code",
   "execution_count": null,
   "id": "780be61a",
   "metadata": {},
   "outputs": [],
   "source": [
    "#to \"modify\" dictionary:-"
   ]
  },
  {
   "cell_type": "code",
   "execution_count": 27,
   "id": "65e29f32",
   "metadata": {},
   "outputs": [
    {
     "name": "stdout",
     "output_type": "stream",
     "text": [
      "{'color': 'yellow', 'points': 5, 'start_position': 0, 'current_position': 2, 'end_position': 10}\n"
     ]
    }
   ],
   "source": [
    "alien['color']='yellow'\n",
    "print(alien)"
   ]
  },
  {
   "cell_type": "code",
   "execution_count": 28,
   "id": "d9bc4651",
   "metadata": {},
   "outputs": [
    {
     "name": "stdout",
     "output_type": "stream",
     "text": [
      "{'color': 'yellow', 'points': 8, 'start_position': 0, 'current_position': 2, 'end_position': 10}\n"
     ]
    }
   ],
   "source": [
    "alien['points']=8\n",
    "print(alien)"
   ]
  },
  {
   "cell_type": "code",
   "execution_count": null,
   "id": "8123a121",
   "metadata": {},
   "outputs": [],
   "source": []
  },
  {
   "cell_type": "code",
   "execution_count": null,
   "id": "d70c0553",
   "metadata": {},
   "outputs": [],
   "source": [
    "# to \"Delete\" key value pairs from dictionary."
   ]
  },
  {
   "cell_type": "code",
   "execution_count": 29,
   "id": "fced416f",
   "metadata": {},
   "outputs": [
    {
     "ename": "NameError",
     "evalue": "name 'start_position' is not defined",
     "output_type": "error",
     "traceback": [
      "\u001b[1;31m---------------------------------------------------------------------------\u001b[0m",
      "\u001b[1;31mNameError\u001b[0m                                 Traceback (most recent call last)",
      "\u001b[1;32m~\\AppData\\Local\\Temp/ipykernel_7064/1086007869.py\u001b[0m in \u001b[0;36m<module>\u001b[1;34m\u001b[0m\n\u001b[1;32m----> 1\u001b[1;33m \u001b[1;32mdel\u001b[0m \u001b[0malien\u001b[0m\u001b[1;33m[\u001b[0m\u001b[0mstart_position\u001b[0m\u001b[1;33m]\u001b[0m\u001b[1;33m\u001b[0m\u001b[1;33m\u001b[0m\u001b[0m\n\u001b[0m",
      "\u001b[1;31mNameError\u001b[0m: name 'start_position' is not defined"
     ]
    }
   ],
   "source": [
    "del alien[start_position]"
   ]
  },
  {
   "cell_type": "code",
   "execution_count": null,
   "id": "566784ed",
   "metadata": {},
   "outputs": [],
   "source": [
    "#try"
   ]
  },
  {
   "cell_type": "code",
   "execution_count": 31,
   "id": "733fb1dd",
   "metadata": {},
   "outputs": [
    {
     "ename": "SyntaxError",
     "evalue": "invalid syntax (Temp/ipykernel_7064/2376453239.py, line 1)",
     "output_type": "error",
     "traceback": [
      "\u001b[1;36m  File \u001b[1;32m\"C:\\Users\\rohit\\AppData\\Local\\Temp/ipykernel_7064/2376453239.py\"\u001b[1;36m, line \u001b[1;32m1\u001b[0m\n\u001b[1;33m    del alien[start_position]=0\u001b[0m\n\u001b[1;37m                             ^\u001b[0m\n\u001b[1;31mSyntaxError\u001b[0m\u001b[1;31m:\u001b[0m invalid syntax\n"
     ]
    }
   ],
   "source": [
    "del alien[start_position]=0"
   ]
  },
  {
   "cell_type": "code",
   "execution_count": null,
   "id": "135551ff",
   "metadata": {},
   "outputs": [],
   "source": [
    "#ex. game is about constuction ( color,points, position...)"
   ]
  },
  {
   "cell_type": "code",
   "execution_count": 32,
   "id": "94bec72c",
   "metadata": {},
   "outputs": [],
   "source": [
    "construction={'color': 'blue','points':5,'start_point':0,'end_point':10}"
   ]
  },
  {
   "cell_type": "code",
   "execution_count": 33,
   "id": "2894379e",
   "metadata": {},
   "outputs": [
    {
     "name": "stdout",
     "output_type": "stream",
     "text": [
      "{'color': 'blue', 'points': 5, 'start_point': 0, 'end_point': 10}\n"
     ]
    }
   ],
   "source": [
    "print(construction)"
   ]
  },
  {
   "cell_type": "code",
   "execution_count": 34,
   "id": "b1be4325",
   "metadata": {},
   "outputs": [],
   "source": [
    "construction['current_point']=5  # adding "
   ]
  },
  {
   "cell_type": "code",
   "execution_count": 35,
   "id": "4eafd72c",
   "metadata": {},
   "outputs": [
    {
     "name": "stdout",
     "output_type": "stream",
     "text": [
      "{'color': 'blue', 'points': 5, 'start_point': 0, 'end_point': 10, 'current_point': 5}\n"
     ]
    }
   ],
   "source": [
    "print(construction)"
   ]
  },
  {
   "cell_type": "code",
   "execution_count": 36,
   "id": "69d0030f",
   "metadata": {},
   "outputs": [
    {
     "ename": "NameError",
     "evalue": "name 'end_point' is not defined",
     "output_type": "error",
     "traceback": [
      "\u001b[1;31m---------------------------------------------------------------------------\u001b[0m",
      "\u001b[1;31mNameError\u001b[0m                                 Traceback (most recent call last)",
      "\u001b[1;32m~\\AppData\\Local\\Temp/ipykernel_7064/3091228024.py\u001b[0m in \u001b[0;36m<module>\u001b[1;34m\u001b[0m\n\u001b[1;32m----> 1\u001b[1;33m \u001b[1;32mdel\u001b[0m \u001b[0mconstruction\u001b[0m\u001b[1;33m[\u001b[0m\u001b[0mend_point\u001b[0m\u001b[1;33m]\u001b[0m\u001b[1;33m\u001b[0m\u001b[1;33m\u001b[0m\u001b[0m\n\u001b[0m",
      "\u001b[1;31mNameError\u001b[0m: name 'end_point' is not defined"
     ]
    }
   ],
   "source": [
    "del construction[end_point]"
   ]
  },
  {
   "cell_type": "code",
   "execution_count": 38,
   "id": "921d57be",
   "metadata": {},
   "outputs": [
    {
     "ename": "KeyError",
     "evalue": "'end_point'",
     "output_type": "error",
     "traceback": [
      "\u001b[1;31m---------------------------------------------------------------------------\u001b[0m",
      "\u001b[1;31mKeyError\u001b[0m                                  Traceback (most recent call last)",
      "\u001b[1;32m~\\AppData\\Local\\Temp/ipykernel_7064/2495993711.py\u001b[0m in \u001b[0;36m<module>\u001b[1;34m\u001b[0m\n\u001b[1;32m----> 1\u001b[1;33m \u001b[1;32mdel\u001b[0m \u001b[0mconstruction\u001b[0m\u001b[1;33m[\u001b[0m\u001b[1;34m'end_point'\u001b[0m\u001b[1;33m]\u001b[0m\u001b[1;33m\u001b[0m\u001b[1;33m\u001b[0m\u001b[0m\n\u001b[0m",
      "\u001b[1;31mKeyError\u001b[0m: 'end_point'"
     ]
    }
   ],
   "source": [
    "del construction['end_point']"
   ]
  },
  {
   "cell_type": "code",
   "execution_count": null,
   "id": "207f4e39",
   "metadata": {},
   "outputs": [],
   "source": []
  }
 ],
 "metadata": {
  "kernelspec": {
   "display_name": "Python 3 (ipykernel)",
   "language": "python",
   "name": "python3"
  },
  "language_info": {
   "codemirror_mode": {
    "name": "ipython",
    "version": 3
   },
   "file_extension": ".py",
   "mimetype": "text/x-python",
   "name": "python",
   "nbconvert_exporter": "python",
   "pygments_lexer": "ipython3",
   "version": "3.9.7"
  }
 },
 "nbformat": 4,
 "nbformat_minor": 5
}
