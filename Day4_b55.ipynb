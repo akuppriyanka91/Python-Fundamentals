{
 "cells": [
  {
   "cell_type": "code",
   "execution_count": null,
   "id": "5b6a312d",
   "metadata": {},
   "outputs": [],
   "source": [
    "# Introduction to LIST data types\n",
    "LIST-->collection of items. Deefined in a perticular order.\n",
    "List classified as Mutable datatype.List defined by using [] brackets."
   ]
  },
  {
   "cell_type": "code",
   "execution_count": 1,
   "id": "5a6ab0d2",
   "metadata": {},
   "outputs": [
    {
     "name": "stdout",
     "output_type": "stream",
     "text": [
      "['raj', 'indu', 'chandu']\n"
     ]
    }
   ],
   "source": [
    "students=['raj','indu','chandu']\n",
    "print(students)"
   ]
  },
  {
   "cell_type": "code",
   "execution_count": 2,
   "id": "03aeb815",
   "metadata": {},
   "outputs": [
    {
     "data": {
      "text/plain": [
       "list"
      ]
     },
     "execution_count": 2,
     "metadata": {},
     "output_type": "execute_result"
    }
   ],
   "source": [
    "type(students) #to validate data types."
   ]
  },
  {
   "cell_type": "code",
   "execution_count": null,
   "id": "7e0d43b5",
   "metadata": {},
   "outputs": [],
   "source": []
  },
  {
   "cell_type": "code",
   "execution_count": null,
   "id": "3bc08dc1",
   "metadata": {},
   "outputs": [],
   "source": [
    "# Introduction to indexing.\n",
    "starting variable is (0).\n"
   ]
  },
  {
   "cell_type": "code",
   "execution_count": null,
   "id": "25899369",
   "metadata": {},
   "outputs": [],
   "source": [
    "#req. if you want to accec only 1 (indiu) name in o/p how?"
   ]
  },
  {
   "cell_type": "code",
   "execution_count": 4,
   "id": "da199faf",
   "metadata": {},
   "outputs": [
    {
     "name": "stdout",
     "output_type": "stream",
     "text": [
      "indu\n"
     ]
    }
   ],
   "source": [
    "print(students[1]) # from above students list (0,1,2) o/p 1 =indu"
   ]
  },
  {
   "cell_type": "code",
   "execution_count": null,
   "id": "d9fb5c11",
   "metadata": {},
   "outputs": [],
   "source": []
  },
  {
   "cell_type": "code",
   "execution_count": null,
   "id": "887d0a97",
   "metadata": {},
   "outputs": [],
   "source": [
    "    # 1. How to add new eliments in list?"
   ]
  },
  {
   "cell_type": "code",
   "execution_count": null,
   "id": "5c0b93ed",
   "metadata": {},
   "outputs": [],
   "source": [
    "students=['raj','indu','chandu']"
   ]
  },
  {
   "cell_type": "code",
   "execution_count": 6,
   "id": "a04ecbb8",
   "metadata": {},
   "outputs": [],
   "source": [
    "students.append('ram')   #append is used to add to list"
   ]
  },
  {
   "cell_type": "code",
   "execution_count": 7,
   "id": "9bc8fb8e",
   "metadata": {},
   "outputs": [
    {
     "name": "stdout",
     "output_type": "stream",
     "text": [
      "['raj', 'indu', 'chandu', 'ram']\n"
     ]
    }
   ],
   "source": [
    "print(students)"
   ]
  },
  {
   "cell_type": "code",
   "execution_count": null,
   "id": "56b050b0",
   "metadata": {},
   "outputs": [],
   "source": [
    "# Req. I want to add kumar name in 2nd place in the list how?"
   ]
  },
  {
   "cell_type": "code",
   "execution_count": 8,
   "id": "ec271437",
   "metadata": {},
   "outputs": [],
   "source": [
    "students.insert(2,'kumar')"
   ]
  },
  {
   "cell_type": "code",
   "execution_count": 10,
   "id": "6a7b25de",
   "metadata": {},
   "outputs": [
    {
     "name": "stdout",
     "output_type": "stream",
     "text": [
      "['raj', 'indu', 'kumar', 'chandu', 'ram']\n"
     ]
    }
   ],
   "source": [
    "print(students)"
   ]
  },
  {
   "cell_type": "code",
   "execution_count": null,
   "id": "dec7f668",
   "metadata": {},
   "outputs": [],
   "source": []
  },
  {
   "cell_type": "code",
   "execution_count": null,
   "id": "cdd46da4",
   "metadata": {},
   "outputs": [],
   "source": [
    "    # 2. How to modify the eliments in list?"
   ]
  },
  {
   "cell_type": "code",
   "execution_count": null,
   "id": "89a06080",
   "metadata": {},
   "outputs": [],
   "source": [
    "# Req. I want modify/change chandu to chandana how?"
   ]
  },
  {
   "cell_type": "code",
   "execution_count": 11,
   "id": "3ec3ceca",
   "metadata": {},
   "outputs": [],
   "source": [
    "students[3]='chandana'"
   ]
  },
  {
   "cell_type": "code",
   "execution_count": 14,
   "id": "94bae0b3",
   "metadata": {},
   "outputs": [
    {
     "name": "stdout",
     "output_type": "stream",
     "text": [
      "['raj', 'indu', 'kumar', 'chandana', 'ram']\n"
     ]
    }
   ],
   "source": [
    "print(students)"
   ]
  },
  {
   "cell_type": "code",
   "execution_count": null,
   "id": "7da4f0de",
   "metadata": {},
   "outputs": [],
   "source": []
  },
  {
   "cell_type": "code",
   "execution_count": null,
   "id": "1e229835",
   "metadata": {},
   "outputs": [],
   "source": [
    "     # 3. How to delete the eliments in list? "
   ]
  },
  {
   "cell_type": "code",
   "execution_count": 15,
   "id": "2c43d1df",
   "metadata": {},
   "outputs": [
    {
     "name": "stdout",
     "output_type": "stream",
     "text": [
      "['raj', 'indu', 'kumar', 'chandana', 'ram']\n"
     ]
    }
   ],
   "source": [
    "print(students)"
   ]
  },
  {
   "cell_type": "code",
   "execution_count": null,
   "id": "97fdac8d",
   "metadata": {},
   "outputs": [],
   "source": [
    "#Req. if i want to delete chandana from the list how?"
   ]
  },
  {
   "cell_type": "code",
   "execution_count": 16,
   "id": "543d2cd3",
   "metadata": {},
   "outputs": [],
   "source": [
    "del students[3]"
   ]
  },
  {
   "cell_type": "code",
   "execution_count": 17,
   "id": "5329511c",
   "metadata": {},
   "outputs": [
    {
     "name": "stdout",
     "output_type": "stream",
     "text": [
      "['raj', 'indu', 'kumar', 'ram']\n"
     ]
    }
   ],
   "source": [
    "print(students)"
   ]
  },
  {
   "cell_type": "code",
   "execution_count": null,
   "id": "6c0e0ac3",
   "metadata": {},
   "outputs": [],
   "source": []
  }
 ],
 "metadata": {
  "kernelspec": {
   "display_name": "Python 3 (ipykernel)",
   "language": "python",
   "name": "python3"
  },
  "language_info": {
   "codemirror_mode": {
    "name": "ipython",
    "version": 3
   },
   "file_extension": ".py",
   "mimetype": "text/x-python",
   "name": "python",
   "nbconvert_exporter": "python",
   "pygments_lexer": "ipython3",
   "version": "3.9.7"
  }
 },
 "nbformat": 4,
 "nbformat_minor": 5
}
