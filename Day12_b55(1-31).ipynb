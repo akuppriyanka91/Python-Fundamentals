{
 "cells": [
  {
   "cell_type": "code",
   "execution_count": null,
   "id": "f4e2d22a",
   "metadata": {},
   "outputs": [],
   "source": [
    "#Introduction to python functions:"
   ]
  },
  {
   "cell_type": "code",
   "execution_count": null,
   "id": "8996a28c",
   "metadata": {},
   "outputs": [],
   "source": [
    "#req. i want to create a greet function?"
   ]
  },
  {
   "cell_type": "code",
   "execution_count": null,
   "id": "6e44e6ab",
   "metadata": {},
   "outputs": [],
   "source": [
    "def is a keyword used to defining the function."
   ]
  },
  {
   "cell_type": "code",
   "execution_count": null,
   "id": "95fafe73",
   "metadata": {},
   "outputs": [],
   "source": [
    "def greet():     #is defining/declaring the function\n",
    "\n",
    "     \"\"\"creating a greet function\"\"\"     # is doc-string counting inside function\n",
    "\n",
    "  print('hello')     # logic "
   ]
  },
  {
   "cell_type": "code",
   "execution_count": 6,
   "id": "43ce5766",
   "metadata": {},
   "outputs": [
    {
     "name": "stdout",
     "output_type": "stream",
     "text": [
      "Hello\n"
     ]
    }
   ],
   "source": [
    "def greet():\n",
    "    \"\"\" creating a greet function \"\"\" # if we don't give gap it througth error\n",
    "print('Hello')          # if you give gap before print, no o/p."
   ]
  },
  {
   "cell_type": "code",
   "execution_count": 8,
   "id": "ba552951",
   "metadata": {},
   "outputs": [
    {
     "name": "stdout",
     "output_type": "stream",
     "text": [
      "how are you\n"
     ]
    }
   ],
   "source": [
    "def greet():\n",
    "    \"\"\"create a greet function\"\"\"\n",
    "print('how are you')"
   ]
  },
  {
   "cell_type": "code",
   "execution_count": 10,
   "id": "e718fe1e",
   "metadata": {},
   "outputs": [
    {
     "ename": "SyntaxError",
     "evalue": "invalid syntax (Temp/ipykernel_2660/1928912796.py, line 1)",
     "output_type": "error",
     "traceback": [
      "\u001b[1;36m  File \u001b[1;32m\"C:\\Users\\rohit\\AppData\\Local\\Temp/ipykernel_2660/1928912796.py\"\u001b[1;36m, line \u001b[1;32m1\u001b[0m\n\u001b[1;33m    greet ():\u001b[0m\n\u001b[1;37m             ^\u001b[0m\n\u001b[1;31mSyntaxError\u001b[0m\u001b[1;31m:\u001b[0m invalid syntax\n"
     ]
    }
   ],
   "source": [
    " greet () # here above before print we need to give space. if not the o/p is coming there.\n",
    "            # if we are giving the space befor print we can call greet funtion."
   ]
  },
  {
   "cell_type": "code",
   "execution_count": 11,
   "id": "d57b3c14",
   "metadata": {},
   "outputs": [],
   "source": [
    "def greet():\n",
    "    \"\"\"create a funtion \"\"\"\n",
    "    print('Hi')"
   ]
  },
  {
   "cell_type": "code",
   "execution_count": 12,
   "id": "c5d52525",
   "metadata": {},
   "outputs": [
    {
     "name": "stdout",
     "output_type": "stream",
     "text": [
      "Hi\n"
     ]
    }
   ],
   "source": [
    "greet()   # here we can call greet function to get o/p"
   ]
  },
  {
   "cell_type": "code",
   "execution_count": 13,
   "id": "912d9788",
   "metadata": {},
   "outputs": [],
   "source": [
    " def greet():\n",
    "        \"\"\"gerrting function\"\"\"\n",
    "        print(\"hey\")\n",
    "        "
   ]
  },
  {
   "cell_type": "code",
   "execution_count": 14,
   "id": "693a39c6",
   "metadata": {},
   "outputs": [
    {
     "name": "stdout",
     "output_type": "stream",
     "text": [
      "hey\n"
     ]
    }
   ],
   "source": [
    "greet()"
   ]
  },
  {
   "cell_type": "code",
   "execution_count": null,
   "id": "9f405a6e",
   "metadata": {},
   "outputs": [],
   "source": []
  },
  {
   "cell_type": "code",
   "execution_count": null,
   "id": "c7018cbc",
   "metadata": {},
   "outputs": [],
   "source": [
    "#Enhancement of the code:"
   ]
  },
  {
   "cell_type": "code",
   "execution_count": 15,
   "id": "695e7eb2",
   "metadata": {},
   "outputs": [],
   "source": [
    "def greet(username):\n",
    "    \"\"\"creating a greet function for greeting a user\"\"\"\n",
    "    print(f\"hello,{username.title()}\")"
   ]
  },
  {
   "cell_type": "code",
   "execution_count": 16,
   "id": "66f58187",
   "metadata": {},
   "outputs": [
    {
     "name": "stdout",
     "output_type": "stream",
     "text": [
      "hello,Priyanka\n"
     ]
    }
   ],
   "source": [
    "greet(\"priyanka\")  #arguments passing"
   ]
  },
  {
   "cell_type": "code",
   "execution_count": 17,
   "id": "e98a8d33",
   "metadata": {},
   "outputs": [
    {
     "name": "stdout",
     "output_type": "stream",
     "text": [
      "hello,Ram\n"
     ]
    }
   ],
   "source": [
    "greet('ram')"
   ]
  },
  {
   "cell_type": "code",
   "execution_count": 18,
   "id": "e01978d6",
   "metadata": {},
   "outputs": [
    {
     "name": "stdout",
     "output_type": "stream",
     "text": [
      "hello,Bob\n"
     ]
    }
   ],
   "source": [
    "greet(\"bob\")"
   ]
  },
  {
   "cell_type": "code",
   "execution_count": null,
   "id": "1a8e93fd",
   "metadata": {},
   "outputs": [],
   "source": []
  },
  {
   "cell_type": "code",
   "execution_count": null,
   "id": "57d9105e",
   "metadata": {},
   "outputs": [],
   "source": [
    "# Types of arguments: 3\n",
    "1. Positional arguments\n",
    "2. Keyword arguments\n",
    "3. Default arguments"
   ]
  },
  {
   "cell_type": "code",
   "execution_count": null,
   "id": "61cd9931",
   "metadata": {},
   "outputs": [],
   "source": [
    "1. Positional arguments:"
   ]
  },
  {
   "cell_type": "code",
   "execution_count": null,
   "id": "6b64627f",
   "metadata": {},
   "outputs": [],
   "source": [
    "#req. i want to create/ discribe_pet as a funtion it needs to accept 2 perameters 1.animal_type 2. pet_name?"
   ]
  },
  {
   "cell_type": "code",
   "execution_count": 21,
   "id": "c06d01ec",
   "metadata": {},
   "outputs": [],
   "source": [
    "def describe_pet(animal_type,pet_name):  # defining the funtion 2 perameters\n",
    "    \"\"\"creating a function for capturing the details of pet\"\"\"  # doc-string\n",
    "    print(f\"I have a {animal_type}\")   #logic\n",
    "    print(f\"My {animal_type}'s name is {pet_name}\") # logic"
   ]
  },
  {
   "cell_type": "code",
   "execution_count": 22,
   "id": "00e07433",
   "metadata": {},
   "outputs": [
    {
     "name": "stdout",
     "output_type": "stream",
     "text": [
      "I have a rabit\n",
      "My rabit's name is leo\n"
     ]
    }
   ],
   "source": [
    "describe_pet('rabit','leo')"
   ]
  },
  {
   "cell_type": "code",
   "execution_count": 23,
   "id": "bba66c00",
   "metadata": {},
   "outputs": [
    {
     "name": "stdout",
     "output_type": "stream",
     "text": [
      "I have a dog\n",
      "My dog's name is lusy\n"
     ]
    }
   ],
   "source": [
    "describe_pet('dog','lusy')"
   ]
  },
  {
   "cell_type": "code",
   "execution_count": 25,
   "id": "0177c159",
   "metadata": {},
   "outputs": [
    {
     "name": "stdout",
     "output_type": "stream",
     "text": [
      "I have a figaro\n",
      "My figaro's name is cat\n"
     ]
    }
   ],
   "source": [
    "describe_pet('figaro','cat')  # if you change position (2 to 1) the meaning changes."
   ]
  },
  {
   "cell_type": "code",
   "execution_count": null,
   "id": "0075a1fd",
   "metadata": {},
   "outputs": [],
   "source": []
  },
  {
   "cell_type": "code",
   "execution_count": null,
   "id": "dea595a6",
   "metadata": {},
   "outputs": [],
   "source": [
    "2. Keyword argument:"
   ]
  },
  {
   "cell_type": "code",
   "execution_count": 26,
   "id": "4b504397",
   "metadata": {},
   "outputs": [
    {
     "name": "stdout",
     "output_type": "stream",
     "text": [
      "I have a scooby\n",
      "My scooby's name is dog\n"
     ]
    }
   ],
   "source": [
    "describe_pet('scooby','dog')  # not a clear meaning sentance?"
   ]
  },
  {
   "cell_type": "code",
   "execution_count": 28,
   "id": "09052c35",
   "metadata": {},
   "outputs": [
    {
     "name": "stdout",
     "output_type": "stream",
     "text": [
      "I have a dog\n",
      "My dog's name is scooby\n"
     ]
    }
   ],
   "source": [
    "describe_pet(pet_name='scooby',animal_type='dog') # if we give keywords (petname,animal type) clear info."
   ]
  },
  {
   "cell_type": "code",
   "execution_count": 29,
   "id": "feab15ef",
   "metadata": {},
   "outputs": [
    {
     "name": "stdout",
     "output_type": "stream",
     "text": [
      "I have a cat\n",
      "My cat's name is fussy\n"
     ]
    }
   ],
   "source": [
    "describe_pet(animal_type='cat',pet_name='fussy')"
   ]
  },
  {
   "cell_type": "code",
   "execution_count": null,
   "id": "83468fb9",
   "metadata": {},
   "outputs": [],
   "source": []
  },
  {
   "cell_type": "code",
   "execution_count": null,
   "id": "5ee6fd06",
   "metadata": {},
   "outputs": [],
   "source": []
  },
  {
   "cell_type": "code",
   "execution_count": null,
   "id": "079841cf",
   "metadata": {},
   "outputs": [],
   "source": []
  },
  {
   "cell_type": "code",
   "execution_count": null,
   "id": "66e137bd",
   "metadata": {},
   "outputs": [],
   "source": []
  },
  {
   "cell_type": "code",
   "execution_count": null,
   "id": "e0ff6450",
   "metadata": {},
   "outputs": [],
   "source": []
  },
  {
   "cell_type": "code",
   "execution_count": null,
   "id": "c72b5231",
   "metadata": {},
   "outputs": [],
   "source": []
  },
  {
   "cell_type": "code",
   "execution_count": null,
   "id": "2ad52e38",
   "metadata": {},
   "outputs": [],
   "source": []
  },
  {
   "cell_type": "code",
   "execution_count": null,
   "id": "c5988de2",
   "metadata": {},
   "outputs": [],
   "source": []
  }
 ],
 "metadata": {
  "kernelspec": {
   "display_name": "Python 3 (ipykernel)",
   "language": "python",
   "name": "python3"
  },
  "language_info": {
   "codemirror_mode": {
    "name": "ipython",
    "version": 3
   },
   "file_extension": ".py",
   "mimetype": "text/x-python",
   "name": "python",
   "nbconvert_exporter": "python",
   "pygments_lexer": "ipython3",
   "version": "3.9.7"
  }
 },
 "nbformat": 4,
 "nbformat_minor": 5
}
