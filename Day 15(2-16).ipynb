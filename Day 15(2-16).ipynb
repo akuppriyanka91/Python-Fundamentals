{
 "cells": [
  {
   "cell_type": "code",
   "execution_count": null,
   "id": "ee26007b",
   "metadata": {},
   "outputs": [],
   "source": [
    "Class continuation:-"
   ]
  },
  {
   "cell_type": "code",
   "execution_count": null,
   "id": "875af1c6",
   "metadata": {},
   "outputs": [],
   "source": [
    "# crete dog class and with details\n",
    "jump, roll_over "
   ]
  },
  {
   "cell_type": "code",
   "execution_count": 2,
   "id": "ad8060e2",
   "metadata": {},
   "outputs": [],
   "source": [
    "class dog():\n",
    "    \n",
    "    def details(self,name,age,color):\n",
    "        self.name = name\n",
    "        self.age = age\n",
    "        self.color = color\n",
    "    \n",
    "    def jump(self): \n",
    "        print(f\"{self.name} is jumping\")\n",
    "              \n",
    "    def roll_over(self):\n",
    "        print(f\"{self.name} is rolling over\")\n",
    "              \n",
    "    "
   ]
  },
  {
   "cell_type": "code",
   "execution_count": 3,
   "id": "2dce42ad",
   "metadata": {},
   "outputs": [],
   "source": [
    "x=dog()   # variable"
   ]
  },
  {
   "cell_type": "code",
   "execution_count": 4,
   "id": "ae507771",
   "metadata": {},
   "outputs": [],
   "source": [
    "x.details('bruno','3','black')"
   ]
  },
  {
   "cell_type": "code",
   "execution_count": 5,
   "id": "d273c8c5",
   "metadata": {},
   "outputs": [
    {
     "name": "stdout",
     "output_type": "stream",
     "text": [
      "bruno is jumping\n"
     ]
    }
   ],
   "source": [
    "x.jump()"
   ]
  },
  {
   "cell_type": "code",
   "execution_count": 6,
   "id": "149d9430",
   "metadata": {},
   "outputs": [
    {
     "name": "stdout",
     "output_type": "stream",
     "text": [
      "bruno is rolling over\n"
     ]
    }
   ],
   "source": [
    "x.roll_over()"
   ]
  },
  {
   "cell_type": "code",
   "execution_count": null,
   "id": "70e78277",
   "metadata": {},
   "outputs": [],
   "source": [
    "objecct oriented program(oops)"
   ]
  },
  {
   "cell_type": "code",
   "execution_count": null,
   "id": "27b28315",
   "metadata": {},
   "outputs": [],
   "source": []
  },
  {
   "cell_type": "code",
   "execution_count": 10,
   "id": "21b25b26",
   "metadata": {},
   "outputs": [],
   "source": [
    "y = dog()"
   ]
  },
  {
   "cell_type": "code",
   "execution_count": 11,
   "id": "113eb2f7",
   "metadata": {},
   "outputs": [],
   "source": [
    "y.details('stubu','4','brown',)"
   ]
  },
  {
   "cell_type": "code",
   "execution_count": 12,
   "id": "af56a49a",
   "metadata": {},
   "outputs": [
    {
     "name": "stdout",
     "output_type": "stream",
     "text": [
      "stubu is jumping\n"
     ]
    }
   ],
   "source": [
    "y.jump()"
   ]
  },
  {
   "cell_type": "code",
   "execution_count": 13,
   "id": "39812acb",
   "metadata": {},
   "outputs": [
    {
     "name": "stdout",
     "output_type": "stream",
     "text": [
      "stubu is rolling over\n"
     ]
    }
   ],
   "source": [
    "y.roll_over()"
   ]
  },
  {
   "cell_type": "code",
   "execution_count": null,
   "id": "ae09538c",
   "metadata": {},
   "outputs": [],
   "source": []
  },
  {
   "cell_type": "code",
   "execution_count": null,
   "id": "a7d23af0",
   "metadata": {},
   "outputs": [],
   "source": [
    "#Introduction to Consrtuctor:-"
   ]
  },
  {
   "cell_type": "code",
   "execution_count": null,
   "id": "a88a949c",
   "metadata": {},
   "outputs": [],
   "source": [
    "Constructor:- is considered as a special method/ magical method/init method.\n",
    "funtionality:- is used to initialize the attribute.\n",
    "    \n",
    "    hoe to define constructor\n",
    "    def _init_()\n",
    "    "
   ]
  },
  {
   "cell_type": "code",
   "execution_count": null,
   "id": "15814208",
   "metadata": {},
   "outputs": [],
   "source": []
  },
  {
   "cell_type": "code",
   "execution_count": null,
   "id": "cd609dd4",
   "metadata": {},
   "outputs": [],
   "source": [
    "#req. Create a class of cat and define its methods.\n",
    "run, walk, sleep and jump?"
   ]
  },
  {
   "cell_type": "code",
   "execution_count": 38,
   "id": "a78ece24",
   "metadata": {},
   "outputs": [],
   "source": [
    "class Cat():\n",
    "    \n",
    "    def __init__(self,name,age,color):\n",
    "        self.name = name\n",
    "        self.age = age\n",
    "        self.color = color\n",
    "        \n",
    "    def run(self):\n",
    "        print(f\"{self.name} is running\")\n",
    "        \n",
    "    def walk(self):\n",
    "        print(f\"{self.name} is walking\")\n",
    "        \n",
    "    def sleep(self):\n",
    "        print(f\"{self.name} is sleeping\")\n",
    "        \n",
    "    def jump(self):\n",
    "        print(f\"{self.name} is jumping\")\n",
    "        \n",
    "    def details(self):\n",
    "        print(f\" i have a cat name {self.name}\")\n",
    "        print(f\" my {self.name} is {self.age} years\")\n",
    "        print(f\" my cat {self.name} is {self.color}\")"
   ]
  },
  {
   "cell_type": "code",
   "execution_count": 40,
   "id": "38d8b9aa",
   "metadata": {},
   "outputs": [],
   "source": [
    "pet = Cat('bella','2','white')"
   ]
  },
  {
   "cell_type": "code",
   "execution_count": 33,
   "id": "23dcb930",
   "metadata": {},
   "outputs": [
    {
     "name": "stdout",
     "output_type": "stream",
     "text": [
      "bella is running\n"
     ]
    }
   ],
   "source": [
    "pet.run()"
   ]
  },
  {
   "cell_type": "code",
   "execution_count": 34,
   "id": "492a6ca4",
   "metadata": {},
   "outputs": [
    {
     "name": "stdout",
     "output_type": "stream",
     "text": [
      "bella is walking\n"
     ]
    }
   ],
   "source": [
    "pet.walk()"
   ]
  },
  {
   "cell_type": "code",
   "execution_count": 35,
   "id": "991f0006",
   "metadata": {},
   "outputs": [
    {
     "name": "stdout",
     "output_type": "stream",
     "text": [
      "bella is sleeping\n"
     ]
    }
   ],
   "source": [
    "pet.sleep()"
   ]
  },
  {
   "cell_type": "code",
   "execution_count": 36,
   "id": "542625e2",
   "metadata": {},
   "outputs": [
    {
     "name": "stdout",
     "output_type": "stream",
     "text": [
      "bella is jumping\n"
     ]
    }
   ],
   "source": [
    "pet.jump()"
   ]
  },
  {
   "cell_type": "code",
   "execution_count": 41,
   "id": "558c4148",
   "metadata": {},
   "outputs": [
    {
     "name": "stdout",
     "output_type": "stream",
     "text": [
      " i have a cat name bella\n",
      " my bella is 2 years\n",
      " my cat bella is white\n"
     ]
    }
   ],
   "source": [
    "pet.details()"
   ]
  },
  {
   "cell_type": "code",
   "execution_count": null,
   "id": "009435d7",
   "metadata": {},
   "outputs": [],
   "source": []
  },
  {
   "cell_type": "code",
   "execution_count": null,
   "id": "3adb30db",
   "metadata": {},
   "outputs": [],
   "source": [
    "File handling in python:-"
   ]
  },
  {
   "cell_type": "code",
   "execution_count": null,
   "id": "baef1c13",
   "metadata": {},
   "outputs": [],
   "source": [
    "need to create a notepad file or any file to upload in jupyter.\n",
    "1. upload a data file --> completed\n",
    "2. how to read the file by using python."
   ]
  },
  {
   "cell_type": "code",
   "execution_count": null,
   "id": "906bf0d1",
   "metadata": {},
   "outputs": [],
   "source": []
  },
  {
   "cell_type": "code",
   "execution_count": 43,
   "id": "cd6a5e61",
   "metadata": {},
   "outputs": [
    {
     "name": "stdout",
     "output_type": "stream",
     "text": [
      "Hi \n",
      "how are you\n",
      "doing well.\n"
     ]
    }
   ],
   "source": [
    "with open('pytext.txt') as file_object:\n",
    "    contents = file_object.read()\n",
    "    print(contents)"
   ]
  },
  {
   "cell_type": "code",
   "execution_count": 44,
   "id": "0e9d0f6d",
   "metadata": {},
   "outputs": [
    {
     "name": "stdout",
     "output_type": "stream",
     "text": [
      "Hi \n",
      "how are you\n",
      "doing well.\n"
     ]
    }
   ],
   "source": [
    "with open('pytext.txt') as x:\n",
    "    con = x.read()\n",
    "    print(con)"
   ]
  },
  {
   "cell_type": "code",
   "execution_count": null,
   "id": "de3397ca",
   "metadata": {},
   "outputs": [],
   "source": [
    "# here in place of x we can call/take any name"
   ]
  },
  {
   "cell_type": "code",
   "execution_count": null,
   "id": "0be773e4",
   "metadata": {},
   "outputs": [],
   "source": []
  },
  {
   "cell_type": "code",
   "execution_count": 45,
   "id": "3763a505",
   "metadata": {},
   "outputs": [],
   "source": [
    "data = 'pytext.txt'"
   ]
  },
  {
   "cell_type": "code",
   "execution_count": 46,
   "id": "6b17995a",
   "metadata": {},
   "outputs": [
    {
     "name": "stdout",
     "output_type": "stream",
     "text": [
      "Hi \n",
      "how are you\n",
      "doing well.\n"
     ]
    }
   ],
   "source": [
    "with open(data) as x:\n",
    "    con = x.read()\n",
    "    print(con)"
   ]
  },
  {
   "cell_type": "code",
   "execution_count": null,
   "id": "078bb13f",
   "metadata": {},
   "outputs": [],
   "source": [
    "# above \n",
    "if there is a big file name then we can create a variable and call that varible is easy."
   ]
  }
 ],
 "metadata": {
  "kernelspec": {
   "display_name": "Python 3 (ipykernel)",
   "language": "python",
   "name": "python3"
  },
  "language_info": {
   "codemirror_mode": {
    "name": "ipython",
    "version": 3
   },
   "file_extension": ".py",
   "mimetype": "text/x-python",
   "name": "python",
   "nbconvert_exporter": "python",
   "pygments_lexer": "ipython3",
   "version": "3.9.7"
  }
 },
 "nbformat": 4,
 "nbformat_minor": 5
}
