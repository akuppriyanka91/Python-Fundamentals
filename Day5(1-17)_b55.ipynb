{
 "cells": [
  {
   "cell_type": "code",
   "execution_count": null,
   "id": "f5223af0",
   "metadata": {},
   "outputs": [],
   "source": [
    "# Continuation list Datatypes. Organizing the list datatypes.\n",
    "2 different types 1.Temparary aprouch 2. Perminent aprouch"
   ]
  },
  {
   "cell_type": "code",
   "execution_count": null,
   "id": "4d5b4559",
   "metadata": {},
   "outputs": [],
   "source": [
    "#Req.I want to organize the list in A-Z order how?"
   ]
  },
  {
   "cell_type": "code",
   "execution_count": 2,
   "id": "9dc1e473",
   "metadata": {},
   "outputs": [],
   "source": [
    "cars=['benz','audi','bmw','maruthi','kia','hyundai']"
   ]
  },
  {
   "cell_type": "code",
   "execution_count": 3,
   "id": "e9718e8e",
   "metadata": {},
   "outputs": [
    {
     "name": "stdout",
     "output_type": "stream",
     "text": [
      "['benz', 'audi', 'bmw', 'maruthi', 'kia', 'hyundai']\n"
     ]
    }
   ],
   "source": [
    "print(cars)"
   ]
  },
  {
   "cell_type": "code",
   "execution_count": null,
   "id": "b7e5ea6a",
   "metadata": {},
   "outputs": [],
   "source": []
  },
  {
   "cell_type": "code",
   "execution_count": null,
   "id": "d3ccd8cf",
   "metadata": {},
   "outputs": [],
   "source": [
    "#Req. I want to get the out put in alphabetical order -->A-Z"
   ]
  },
  {
   "cell_type": "code",
   "execution_count": null,
   "id": "ea812439",
   "metadata": {},
   "outputs": [],
   "source": [
    "#1.Temparary aprouch --> sorted--we can get the original oder of the list initially.\n",
    " 2. Perminent aprouch --> sort-- changes are implied perminanty."
   ]
  },
  {
   "cell_type": "code",
   "execution_count": null,
   "id": "fdbfb59e",
   "metadata": {},
   "outputs": [],
   "source": [
    "cars=['benz','audi','bmw','maruthi','kia','hyundai']"
   ]
  },
  {
   "cell_type": "code",
   "execution_count": 4,
   "id": "968f61ae",
   "metadata": {},
   "outputs": [
    {
     "name": "stdout",
     "output_type": "stream",
     "text": [
      "['audi', 'benz', 'bmw', 'hyundai', 'kia', 'maruthi']\n"
     ]
    }
   ],
   "source": [
    "print(sorted(cars))  # A-Z order by the same list"
   ]
  },
  {
   "cell_type": "code",
   "execution_count": 5,
   "id": "cb1164f6",
   "metadata": {},
   "outputs": [
    {
     "name": "stdout",
     "output_type": "stream",
     "text": [
      "['benz', 'audi', 'bmw', 'maruthi', 'kia', 'hyundai']\n"
     ]
    }
   ],
   "source": [
    "print(cars)   #no change in original order (1.temparary approuch)"
   ]
  },
  {
   "cell_type": "code",
   "execution_count": 6,
   "id": "b0324bfc",
   "metadata": {},
   "outputs": [],
   "source": [
    "cars.sort()"
   ]
  },
  {
   "cell_type": "code",
   "execution_count": 7,
   "id": "f1a547a1",
   "metadata": {},
   "outputs": [
    {
     "name": "stdout",
     "output_type": "stream",
     "text": [
      "['audi', 'benz', 'bmw', 'hyundai', 'kia', 'maruthi']\n"
     ]
    }
   ],
   "source": [
    "print(cars)   # (2. perminent approuch even thought if u print again it won't change the list order )"
   ]
  },
  {
   "cell_type": "code",
   "execution_count": 8,
   "id": "a9aa4c9e",
   "metadata": {},
   "outputs": [
    {
     "name": "stdout",
     "output_type": "stream",
     "text": [
      "['audi', 'benz', 'bmw', 'hyundai', 'kia', 'maruthi']\n"
     ]
    }
   ],
   "source": [
    "print(cars)"
   ]
  },
  {
   "cell_type": "code",
   "execution_count": null,
   "id": "d6fb8b7b",
   "metadata": {},
   "outputs": [],
   "source": []
  },
  {
   "cell_type": "code",
   "execution_count": null,
   "id": "4a075e71",
   "metadata": {},
   "outputs": [],
   "source": [
    "#how to print the list in reverse order:-"
   ]
  },
  {
   "cell_type": "code",
   "execution_count": 9,
   "id": "0db43751",
   "metadata": {},
   "outputs": [
    {
     "name": "stdout",
     "output_type": "stream",
     "text": [
      "['audi', 'benz', 'bmw', 'hyundai', 'kia', 'maruthi']\n"
     ]
    }
   ],
   "source": [
    "print(cars)"
   ]
  },
  {
   "cell_type": "code",
   "execution_count": 11,
   "id": "ad3f1a87",
   "metadata": {},
   "outputs": [],
   "source": [
    "cars.reverse()  #to print list in reverse order"
   ]
  },
  {
   "cell_type": "code",
   "execution_count": 12,
   "id": "83c8da56",
   "metadata": {},
   "outputs": [
    {
     "name": "stdout",
     "output_type": "stream",
     "text": [
      "['maruthi', 'kia', 'hyundai', 'bmw', 'benz', 'audi']\n"
     ]
    }
   ],
   "source": [
    "print(cars)"
   ]
  },
  {
   "cell_type": "code",
   "execution_count": null,
   "id": "306f492f",
   "metadata": {},
   "outputs": [],
   "source": []
  },
  {
   "cell_type": "code",
   "execution_count": null,
   "id": "f2164b59",
   "metadata": {},
   "outputs": [],
   "source": [
    "#Req. I want to know the count os the no. of elements in the list ?\n",
    "  we use \"len()\" for the count."
   ]
  },
  {
   "cell_type": "code",
   "execution_count": 15,
   "id": "107a68d9",
   "metadata": {},
   "outputs": [
    {
     "name": "stdout",
     "output_type": "stream",
     "text": [
      "['maruthi', 'kia', 'hyundai', 'bmw', 'benz', 'audi']\n"
     ]
    }
   ],
   "source": [
    "print(cars)"
   ]
  },
  {
   "cell_type": "code",
   "execution_count": 17,
   "id": "ec270e09",
   "metadata": {},
   "outputs": [
    {
     "data": {
      "text/plain": [
       "6"
      ]
     },
     "execution_count": 17,
     "metadata": {},
     "output_type": "execute_result"
    }
   ],
   "source": [
    "len(cars)"
   ]
  },
  {
   "cell_type": "code",
   "execution_count": 19,
   "id": "20bcf712",
   "metadata": {},
   "outputs": [
    {
     "name": "stdout",
     "output_type": "stream",
     "text": [
      "['audi', 'benz', 'bmw', 'hyundai', 'kia', 'maruthi']\n"
     ]
    }
   ],
   "source": [
    "cars.reverse()\n",
    "print(cars)"
   ]
  },
  {
   "cell_type": "code",
   "execution_count": 20,
   "id": "16e3c88e",
   "metadata": {},
   "outputs": [
    {
     "data": {
      "text/plain": [
       "6"
      ]
     },
     "execution_count": 20,
     "metadata": {},
     "output_type": "execute_result"
    }
   ],
   "source": [
    "len(cars)"
   ]
  },
  {
   "cell_type": "code",
   "execution_count": null,
   "id": "0f75025b",
   "metadata": {},
   "outputs": [],
   "source": []
  },
  {
   "cell_type": "code",
   "execution_count": null,
   "id": "e7ab9ddd",
   "metadata": {},
   "outputs": [],
   "source": [
    "# introduction to slicing of list:- (slicing=dividing/cutting)"
   ]
  },
  {
   "cell_type": "code",
   "execution_count": null,
   "id": "014bb43e",
   "metadata": {},
   "outputs": [],
   "source": [
    "#students=['raj', 'indu', 'kumar', 'chandana', 'ram']"
   ]
  },
  {
   "cell_type": "code",
   "execution_count": 21,
   "id": "3f3dd3d1",
   "metadata": {},
   "outputs": [],
   "source": [
    "students=['ravi','abdul','naveen','kumar','ruksana','simran','keerthi','kalpana']"
   ]
  },
  {
   "cell_type": "code",
   "execution_count": null,
   "id": "cf7b9995",
   "metadata": {},
   "outputs": [],
   "source": [
    "#syntax of slicing"
   ]
  },
  {
   "cell_type": "code",
   "execution_count": null,
   "id": "265dd863",
   "metadata": {},
   "outputs": [],
   "source": [
    "startvalue:stopvalue:stepcount"
   ]
  },
  {
   "cell_type": "code",
   "execution_count": null,
   "id": "7ac7ae79",
   "metadata": {},
   "outputs": [],
   "source": [
    "stopvalue/lastalue is always exclusive"
   ]
  },
  {
   "cell_type": "code",
   "execution_count": null,
   "id": "ec233c27",
   "metadata": {},
   "outputs": [],
   "source": [
    "#Req. I want to 'ravi' and 'abdul' in the below list o/p?"
   ]
  },
  {
   "cell_type": "code",
   "execution_count": null,
   "id": "369e7149",
   "metadata": {},
   "outputs": [],
   "source": [
    "students=['ravi','abdul','naveen','kumar','ruksana','simran','keerthi','kalpana']"
   ]
  },
  {
   "cell_type": "code",
   "execution_count": 22,
   "id": "9218c7d5",
   "metadata": {},
   "outputs": [
    {
     "name": "stdout",
     "output_type": "stream",
     "text": [
      "['ravi', 'abdul', 'naveen', 'kumar', 'ruksana', 'simran', 'keerthi', 'kalpana']\n"
     ]
    }
   ],
   "source": [
    "print(students)"
   ]
  },
  {
   "cell_type": "code",
   "execution_count": 25,
   "id": "81252e25",
   "metadata": {},
   "outputs": [
    {
     "name": "stdout",
     "output_type": "stream",
     "text": [
      "['ravi']\n"
     ]
    }
   ],
   "source": [
    "print(students[0:1])"
   ]
  },
  {
   "cell_type": "code",
   "execution_count": 23,
   "id": "178eecab",
   "metadata": {},
   "outputs": [
    {
     "name": "stdout",
     "output_type": "stream",
     "text": [
      "['abdul']\n"
     ]
    }
   ],
   "source": [
    "print(students[1:2])"
   ]
  },
  {
   "cell_type": "code",
   "execution_count": null,
   "id": "f2450eeb",
   "metadata": {},
   "outputs": [],
   "source": [
    "# if you want to include the stopvalue incrment index by +1."
   ]
  },
  {
   "cell_type": "code",
   "execution_count": 26,
   "id": "2cd9ee7c",
   "metadata": {},
   "outputs": [
    {
     "name": "stdout",
     "output_type": "stream",
     "text": [
      "['ravi', 'abdul']\n"
     ]
    }
   ],
   "source": [
    "print(students[0:2])"
   ]
  },
  {
   "cell_type": "code",
   "execution_count": null,
   "id": "c5aa5907",
   "metadata": {},
   "outputs": [],
   "source": [
    "#Req. i want to the o/p 'naveen' and 'kumar' ?"
   ]
  },
  {
   "cell_type": "code",
   "execution_count": 27,
   "id": "7eddc15f",
   "metadata": {},
   "outputs": [
    {
     "name": "stdout",
     "output_type": "stream",
     "text": [
      "['naveen', 'kumar']\n"
     ]
    }
   ],
   "source": [
    "print(students[2:4])"
   ]
  },
  {
   "cell_type": "code",
   "execution_count": null,
   "id": "080486b6",
   "metadata": {},
   "outputs": [],
   "source": [
    "#Req. i want to get alternate names as o/p in above list?\n",
    "# list has 8 no. of students."
   ]
  },
  {
   "cell_type": "code",
   "execution_count": 29,
   "id": "4c8c56cc",
   "metadata": {},
   "outputs": [
    {
     "name": "stdout",
     "output_type": "stream",
     "text": [
      "['ravi', 'naveen', 'ruksana', 'keerthi']\n"
     ]
    }
   ],
   "source": [
    "print(students[0:8:2])   #stepcount"
   ]
  },
  {
   "cell_type": "code",
   "execution_count": 30,
   "id": "79279bd0",
   "metadata": {},
   "outputs": [
    {
     "name": "stdout",
     "output_type": "stream",
     "text": [
      "['ravi', 'abdul', 'naveen', 'kumar', 'ruksana', 'simran', 'keerthi', 'kalpana']\n"
     ]
    }
   ],
   "source": [
    "print(students[0:8:1])"
   ]
  },
  {
   "cell_type": "code",
   "execution_count": 31,
   "id": "3b94eed3",
   "metadata": {},
   "outputs": [
    {
     "name": "stdout",
     "output_type": "stream",
     "text": [
      "['ravi', 'kumar', 'keerthi']\n"
     ]
    }
   ],
   "source": [
    "print(students[0:8:3])"
   ]
  },
  {
   "cell_type": "code",
   "execution_count": 32,
   "id": "690ac5f8",
   "metadata": {},
   "outputs": [
    {
     "name": "stdout",
     "output_type": "stream",
     "text": [
      "['abdul', 'kumar', 'simran', 'kalpana']\n"
     ]
    }
   ],
   "source": [
    "print(students[1:9:2])"
   ]
  },
  {
   "cell_type": "code",
   "execution_count": 33,
   "id": "2f7dc68a",
   "metadata": {},
   "outputs": [
    {
     "name": "stdout",
     "output_type": "stream",
     "text": [
      "['ravi', 'ruksana']\n"
     ]
    }
   ],
   "source": [
    "print(students[0:9:4])"
   ]
  },
  {
   "cell_type": "code",
   "execution_count": 34,
   "id": "59b4409c",
   "metadata": {},
   "outputs": [
    {
     "name": "stdout",
     "output_type": "stream",
     "text": [
      "['ravi']\n"
     ]
    }
   ],
   "source": [
    "print(students[0:8:8])"
   ]
  },
  {
   "cell_type": "code",
   "execution_count": 35,
   "id": "c20fcc8a",
   "metadata": {},
   "outputs": [
    {
     "name": "stdout",
     "output_type": "stream",
     "text": [
      "['ravi', 'simran']\n"
     ]
    }
   ],
   "source": [
    "print(students[0:8:5])"
   ]
  },
  {
   "cell_type": "code",
   "execution_count": null,
   "id": "400cfc01",
   "metadata": {},
   "outputs": [],
   "source": [
    "S"
   ]
  }
 ],
 "metadata": {
  "kernelspec": {
   "display_name": "Python 3 (ipykernel)",
   "language": "python",
   "name": "python3"
  },
  "language_info": {
   "codemirror_mode": {
    "name": "ipython",
    "version": 3
   },
   "file_extension": ".py",
   "mimetype": "text/x-python",
   "name": "python",
   "nbconvert_exporter": "python",
   "pygments_lexer": "ipython3",
   "version": "3.9.7"
  }
 },
 "nbformat": 4,
 "nbformat_minor": 5
}
