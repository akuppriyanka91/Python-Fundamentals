{
 "cells": [
  {
   "cell_type": "code",
   "execution_count": null,
   "id": "e9c971e5",
   "metadata": {},
   "outputs": [],
   "source": [
    "#Understanding concept of user input:"
   ]
  },
  {
   "cell_type": "code",
   "execution_count": 1,
   "id": "3577258d",
   "metadata": {},
   "outputs": [
    {
     "name": "stdout",
     "output_type": "stream",
     "text": [
      "tell me something, and i will repet for youhi\n"
     ]
    }
   ],
   "source": [
    "message=input(\"tell me something, and i will repet for you\")"
   ]
  },
  {
   "cell_type": "code",
   "execution_count": 2,
   "id": "eb7a4fab",
   "metadata": {},
   "outputs": [
    {
     "name": "stdout",
     "output_type": "stream",
     "text": [
      "tell me something, and i will repet for you hi\n",
      " hi\n"
     ]
    }
   ],
   "source": [
    "message=input(\"tell me something, and i will repet for you\")\n",
    "print(message)"
   ]
  },
  {
   "cell_type": "code",
   "execution_count": 3,
   "id": "c9d2cf0c",
   "metadata": {},
   "outputs": [
    {
     "name": "stdout",
     "output_type": "stream",
     "text": [
      "tell me something, and i will repet for youhello\n",
      "hello\n"
     ]
    }
   ],
   "source": [
    "message=input(\"tell me something, and i will repet for you\")\n",
    "print(message)"
   ]
  },
  {
   "cell_type": "code",
   "execution_count": null,
   "id": "17cb64e2",
   "metadata": {},
   "outputs": [],
   "source": [
    "#above string messge what ever we give it will print (o/p)same."
   ]
  },
  {
   "cell_type": "code",
   "execution_count": null,
   "id": "fc94e3df",
   "metadata": {},
   "outputs": [],
   "source": []
  },
  {
   "cell_type": "code",
   "execution_count": 4,
   "id": "81bf5b6d",
   "metadata": {},
   "outputs": [
    {
     "name": "stdout",
     "output_type": "stream",
     "text": [
      "please enter your name: Raj\n",
      "\n",
      " hello,Raj\n"
     ]
    }
   ],
   "source": [
    "name=input(\"please enter your name: \")\n",
    "print(f\"\\n hello,{name}\")"
   ]
  },
  {
   "cell_type": "code",
   "execution_count": 5,
   "id": "ac838ccd",
   "metadata": {},
   "outputs": [
    {
     "name": "stdout",
     "output_type": "stream",
     "text": [
      "please enter your age: 5\n",
      "\n",
      " hello,5\n"
     ]
    }
   ],
   "source": [
    "name=input(\"please enter your age: \")\n",
    "print(f\"\\n hello,{name}\")"
   ]
  },
  {
   "cell_type": "code",
   "execution_count": null,
   "id": "96b54650",
   "metadata": {},
   "outputs": [],
   "source": []
  },
  {
   "cell_type": "code",
   "execution_count": 6,
   "id": "38331a76",
   "metadata": {},
   "outputs": [],
   "source": [
    "prompt=\"if you tell who you are, we can personalise your messagefor you\"\n",
    "prompt +=\"\\n what is your first name?\""
   ]
  },
  {
   "cell_type": "code",
   "execution_count": 7,
   "id": "7df651c7",
   "metadata": {},
   "outputs": [
    {
     "name": "stdout",
     "output_type": "stream",
     "text": [
      "if you tell who you are, we can personalise your messagefor you\n",
      " what is your first name?koti\n",
      "\n",
      " good evening,koti!\n"
     ]
    }
   ],
   "source": [
    "name=input(prompt)\n",
    "print(f\"\\n good evening,{name}!\")"
   ]
  },
  {
   "cell_type": "code",
   "execution_count": 8,
   "id": "d7fbecbb",
   "metadata": {},
   "outputs": [],
   "source": [
    "prompt=\"hello, how can i help you\"\n",
    "prompt += \"\\n can i know your name and age? \""
   ]
  },
  {
   "cell_type": "code",
   "execution_count": 9,
   "id": "dccd7de8",
   "metadata": {},
   "outputs": [
    {
     "name": "stdout",
     "output_type": "stream",
     "text": [
      "hello, how can i help you\n",
      " can i know your name and age? Jo 12\n",
      "hello, how can i help you\n",
      " can i know your name and age? \n"
     ]
    }
   ],
   "source": [
    "name=input(prompt)\n",
    "print(prompt)"
   ]
  },
  {
   "cell_type": "code",
   "execution_count": null,
   "id": "e89d4a8a",
   "metadata": {},
   "outputs": [],
   "source": [
    "#"
   ]
  },
  {
   "cell_type": "code",
   "execution_count": null,
   "id": "2e88bf05",
   "metadata": {},
   "outputs": [],
   "source": [
    "prompt=\"hello, how can i help you\"\n",
    "prompt += \"\\n can i know your name and age? \""
   ]
  },
  {
   "cell_type": "code",
   "execution_count": 10,
   "id": "10ffb972",
   "metadata": {},
   "outputs": [
    {
     "name": "stdout",
     "output_type": "stream",
     "text": [
      "hello, how can i help you\n",
      " can i know your name and age? john\n",
      "\n",
      " good day:john\n"
     ]
    }
   ],
   "source": [
    "name=input(prompt)\n",
    "print(f\"\\n good day:{name}\")"
   ]
  },
  {
   "cell_type": "code",
   "execution_count": 11,
   "id": "72e2eaf4",
   "metadata": {},
   "outputs": [],
   "source": [
    "prompt=\"hello, how can i help you\"\n",
    "prompt += \"\\n can i know your name? \"\n",
    "prompt += \"\\n how are you doing\""
   ]
  },
  {
   "cell_type": "code",
   "execution_count": 12,
   "id": "40b6df17",
   "metadata": {},
   "outputs": [
    {
     "name": "stdout",
     "output_type": "stream",
     "text": [
      "hello, how can i help you\n",
      " can i know your name? \n",
      " how are you doingrose\n",
      "\n",
      " rose\n"
     ]
    }
   ],
   "source": [
    "name=input(prompt)\n",
    "print(f\"\\n {name}\")"
   ]
  },
  {
   "cell_type": "code",
   "execution_count": 13,
   "id": "fa4ed72a",
   "metadata": {},
   "outputs": [],
   "source": [
    "prompt=\"hello, how can i help you\"\n",
    "prompt += \"\\n can i know your name? \"\n",
    "prompt += \"\\n how are you doing \""
   ]
  },
  {
   "cell_type": "code",
   "execution_count": 14,
   "id": "c64e9e26",
   "metadata": {},
   "outputs": [
    {
     "name": "stdout",
     "output_type": "stream",
     "text": [
      "hello, how can i help you\n",
      " can i know your name? \n",
      " how are you doing bob\n",
      "\n",
      " greetings:bob\n"
     ]
    }
   ],
   "source": [
    "name=input(prompt)\n",
    "print(f\"\\n greetings:{name}\")"
   ]
  },
  {
   "cell_type": "code",
   "execution_count": null,
   "id": "63959845",
   "metadata": {},
   "outputs": [],
   "source": [
    "#Accepting Numerical input"
   ]
  },
  {
   "cell_type": "code",
   "execution_count": null,
   "id": "f685b972",
   "metadata": {},
   "outputs": [],
   "source": [
    "Note: input by default accepting the input given in string format."
   ]
  },
  {
   "cell_type": "code",
   "execution_count": 15,
   "id": "d6b066cd",
   "metadata": {},
   "outputs": [
    {
     "name": "stdout",
     "output_type": "stream",
     "text": [
      "how old are you?10\n"
     ]
    }
   ],
   "source": [
    "age=input('how old are you?')"
   ]
  },
  {
   "cell_type": "code",
   "execution_count": null,
   "id": "81b5db0e",
   "metadata": {},
   "outputs": [],
   "source": [
    "# if we are comparing the age for voting age=18,so age is >18 or not."
   ]
  },
  {
   "cell_type": "code",
   "execution_count": 16,
   "id": "1f214fe7",
   "metadata": {},
   "outputs": [
    {
     "ename": "TypeError",
     "evalue": "'>=' not supported between instances of 'str' and 'int'",
     "output_type": "error",
     "traceback": [
      "\u001b[1;31m---------------------------------------------------------------------------\u001b[0m",
      "\u001b[1;31mTypeError\u001b[0m                                 Traceback (most recent call last)",
      "\u001b[1;32m~\\AppData\\Local\\Temp/ipykernel_21408/3314220487.py\u001b[0m in \u001b[0;36m<module>\u001b[1;34m\u001b[0m\n\u001b[1;32m----> 1\u001b[1;33m \u001b[0mage\u001b[0m \u001b[1;33m>=\u001b[0m \u001b[1;36m18\u001b[0m\u001b[1;33m\u001b[0m\u001b[1;33m\u001b[0m\u001b[0m\n\u001b[0m",
      "\u001b[1;31mTypeError\u001b[0m: '>=' not supported between instances of 'str' and 'int'"
     ]
    }
   ],
   "source": [
    "age >= 18"
   ]
  },
  {
   "cell_type": "code",
   "execution_count": null,
   "id": "68925bb9",
   "metadata": {},
   "outputs": [],
   "source": [
    "# to clear above error we are using \"typecasting datatypes\""
   ]
  },
  {
   "cell_type": "code",
   "execution_count": 17,
   "id": "17376b51",
   "metadata": {},
   "outputs": [
    {
     "name": "stdout",
     "output_type": "stream",
     "text": [
      "how old are you?15\n"
     ]
    }
   ],
   "source": [
    "age = input(\"how old are you?\")\n",
    "age = int(age)  #we are appling type of casting here"
   ]
  },
  {
   "cell_type": "code",
   "execution_count": 18,
   "id": "ec0700af",
   "metadata": {},
   "outputs": [
    {
     "data": {
      "text/plain": [
       "int"
      ]
     },
     "execution_count": 18,
     "metadata": {},
     "output_type": "execute_result"
    }
   ],
   "source": [
    "type(age)"
   ]
  },
  {
   "cell_type": "code",
   "execution_count": 19,
   "id": "8548198e",
   "metadata": {},
   "outputs": [
    {
     "data": {
      "text/plain": [
       "False"
      ]
     },
     "execution_count": 19,
     "metadata": {},
     "output_type": "execute_result"
    }
   ],
   "source": [
    "age >= 18"
   ]
  },
  {
   "cell_type": "code",
   "execution_count": 20,
   "id": "eb191e1a",
   "metadata": {},
   "outputs": [
    {
     "data": {
      "text/plain": [
       "False"
      ]
     },
     "execution_count": 20,
     "metadata": {},
     "output_type": "execute_result"
    }
   ],
   "source": [
    "age >=22 # here it is taking above age 15, that's why false"
   ]
  },
  {
   "cell_type": "code",
   "execution_count": 21,
   "id": "189c7105",
   "metadata": {},
   "outputs": [
    {
     "name": "stdout",
     "output_type": "stream",
     "text": [
      "how old are you?22\n"
     ]
    }
   ],
   "source": [
    "age = input(\"how old are you?\")\n",
    "age = int(age)  #we are appling type of casting here"
   ]
  },
  {
   "cell_type": "code",
   "execution_count": 22,
   "id": "4dc4a536",
   "metadata": {},
   "outputs": [
    {
     "data": {
      "text/plain": [
       "True"
      ]
     },
     "execution_count": 22,
     "metadata": {},
     "output_type": "execute_result"
    }
   ],
   "source": [
    "age>=18 # here age 22 is above 18 so true."
   ]
  },
  {
   "cell_type": "code",
   "execution_count": null,
   "id": "42cf3e7c",
   "metadata": {},
   "outputs": [],
   "source": [
    "# building votuin application and validating up on the age entered."
   ]
  },
  {
   "cell_type": "code",
   "execution_count": 23,
   "id": "cb91846f",
   "metadata": {},
   "outputs": [
    {
     "name": "stdout",
     "output_type": "stream",
     "text": [
      "how old are you?21\n",
      "you are eligible to vote\n"
     ]
    }
   ],
   "source": [
    "age = input(\"how old are you?\")\n",
    "age = int(age)\n",
    "\n",
    "if age >= 18:\n",
    "    print('you are eligible to vote')\n",
    "else:\n",
    "    print('you are not eligible to vote')"
   ]
  },
  {
   "cell_type": "code",
   "execution_count": 24,
   "id": "8550d5c6",
   "metadata": {},
   "outputs": [
    {
     "name": "stdout",
     "output_type": "stream",
     "text": [
      "how old are you?16\n",
      "you are not eligible to vote\n"
     ]
    }
   ],
   "source": [
    "age = input(\"how old are you?\")\n",
    "age = int(age)\n",
    "\n",
    "if age >= 18:\n",
    "    print('you are eligible to vote')\n",
    "else:\n",
    "    print('you are not eligible to vote')"
   ]
  },
  {
   "cell_type": "code",
   "execution_count": null,
   "id": "8b6aab01",
   "metadata": {},
   "outputs": [],
   "source": []
  },
  {
   "cell_type": "code",
   "execution_count": 25,
   "id": "8c05f304",
   "metadata": {},
   "outputs": [
    {
     "name": "stdout",
     "output_type": "stream",
     "text": [
      "how old are you? 15\n",
      "you are not eligible to vote\n"
     ]
    }
   ],
   "source": [
    "age = input(\"how old are you? \")\n",
    "age = int(age)\n",
    "\n",
    "if age >= 18:\n",
    "    print(f\"you are eligible to vote\")\n",
    "else:\n",
    "    print(f\"you are not eligible to vote\")"
   ]
  },
  {
   "cell_type": "code",
   "execution_count": null,
   "id": "0659acb9",
   "metadata": {},
   "outputs": [],
   "source": []
  },
  {
   "cell_type": "code",
   "execution_count": null,
   "id": "8ddeb4de",
   "metadata": {},
   "outputs": [],
   "source": [
    "Understanding the modulo(%) operater:"
   ]
  },
  {
   "cell_type": "code",
   "execution_count": null,
   "id": "31179239",
   "metadata": {},
   "outputs": [],
   "source": [
    "# Q. finding the number even or odd?"
   ]
  },
  {
   "cell_type": "code",
   "execution_count": 26,
   "id": "4ed042d6",
   "metadata": {},
   "outputs": [
    {
     "name": "stdout",
     "output_type": "stream",
     "text": [
      "enter a number, i will tell you it is even or odd5\n",
      "\n",
      " the number5is odd\n"
     ]
    }
   ],
   "source": [
    "number=input(\"enter a number, i will tell you it is even or odd\")\n",
    "number = int(number)\n",
    "\n",
    "if number%2==0:\n",
    "    print(f\"\\n the number{number} is even\")\n",
    "else:\n",
    "    print(f\"\\n the number{number}is odd\")"
   ]
  },
  {
   "cell_type": "code",
   "execution_count": 27,
   "id": "1fbcf7f1",
   "metadata": {},
   "outputs": [
    {
     "name": "stdout",
     "output_type": "stream",
     "text": [
      "enter a number, i will tell you it is even or odd8\n",
      "\n",
      " the number 8 is even\n"
     ]
    }
   ],
   "source": [
    "number=input(\"enter a number, i will tell you it is even or odd\")\n",
    "number = int(number)\n",
    "\n",
    "if number%2==0:\n",
    "    print(f\"\\n the number {number} is even\")\n",
    "else:\n",
    "    print(f\"\\n the number {number} is odd\")"
   ]
  },
  {
   "cell_type": "code",
   "execution_count": null,
   "id": "c5e6e8e0",
   "metadata": {},
   "outputs": [],
   "source": []
  },
  {
   "cell_type": "code",
   "execution_count": null,
   "id": "4b5f8359",
   "metadata": {},
   "outputs": [],
   "source": []
  },
  {
   "cell_type": "code",
   "execution_count": null,
   "id": "9919c87f",
   "metadata": {},
   "outputs": [],
   "source": []
  },
  {
   "cell_type": "code",
   "execution_count": null,
   "id": "4fddac90",
   "metadata": {},
   "outputs": [],
   "source": []
  },
  {
   "cell_type": "code",
   "execution_count": null,
   "id": "82024c8f",
   "metadata": {},
   "outputs": [],
   "source": []
  },
  {
   "cell_type": "code",
   "execution_count": null,
   "id": "6f43d469",
   "metadata": {},
   "outputs": [],
   "source": []
  },
  {
   "cell_type": "code",
   "execution_count": null,
   "id": "ed2fc2bc",
   "metadata": {},
   "outputs": [],
   "source": []
  }
 ],
 "metadata": {
  "kernelspec": {
   "display_name": "Python 3 (ipykernel)",
   "language": "python",
   "name": "python3"
  },
  "language_info": {
   "codemirror_mode": {
    "name": "ipython",
    "version": 3
   },
   "file_extension": ".py",
   "mimetype": "text/x-python",
   "name": "python",
   "nbconvert_exporter": "python",
   "pygments_lexer": "ipython3",
   "version": "3.9.7"
  }
 },
 "nbformat": 4,
 "nbformat_minor": 5
}
