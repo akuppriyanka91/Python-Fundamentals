{
 "cells": [
  {
   "cell_type": "code",
   "execution_count": null,
   "id": "2a49a906",
   "metadata": {},
   "outputs": [],
   "source": [
    "# Introduction to string"
   ]
  },
  {
   "cell_type": "code",
   "execution_count": null,
   "id": "ddfdb389",
   "metadata": {},
   "outputs": [],
   "source": [
    "#type: is used to validate the datatypes, that we are using."
   ]
  },
  {
   "cell_type": "code",
   "execution_count": null,
   "id": "81efe9c0",
   "metadata": {},
   "outputs": [],
   "source": []
  },
  {
   "cell_type": "code",
   "execution_count": 1,
   "id": "0916944a",
   "metadata": {},
   "outputs": [
    {
     "ename": "NameError",
     "evalue": "name 'name1' is not defined",
     "output_type": "error",
     "traceback": [
      "\u001b[1;31m---------------------------------------------------------------------------\u001b[0m",
      "\u001b[1;31mNameError\u001b[0m                                 Traceback (most recent call last)",
      "\u001b[1;32m~\\AppData\\Local\\Temp/ipykernel_26084/3406426842.py\u001b[0m in \u001b[0;36m<module>\u001b[1;34m\u001b[0m\n\u001b[1;32m----> 1\u001b[1;33m \u001b[0mtype\u001b[0m\u001b[1;33m(\u001b[0m\u001b[0mname1\u001b[0m\u001b[1;33m)\u001b[0m\u001b[1;33m\u001b[0m\u001b[1;33m\u001b[0m\u001b[0m\n\u001b[0m",
      "\u001b[1;31mNameError\u001b[0m: name 'name1' is not defined"
     ]
    }
   ],
   "source": [
    "type(name1)"
   ]
  },
  {
   "cell_type": "code",
   "execution_count": null,
   "id": "b4372f9e",
   "metadata": {},
   "outputs": [],
   "source": [
    "name=\"r\""
   ]
  },
  {
   "cell_type": "code",
   "execution_count": 5,
   "id": "1c29363e",
   "metadata": {},
   "outputs": [
    {
     "ename": "NameError",
     "evalue": "name 'name' is not defined",
     "output_type": "error",
     "traceback": [
      "\u001b[1;31m---------------------------------------------------------------------------\u001b[0m",
      "\u001b[1;31mNameError\u001b[0m                                 Traceback (most recent call last)",
      "\u001b[1;32m~\\AppData\\Local\\Temp/ipykernel_26084/1213051780.py\u001b[0m in \u001b[0;36m<module>\u001b[1;34m\u001b[0m\n\u001b[1;32m----> 1\u001b[1;33m \u001b[0mtype\u001b[0m\u001b[1;33m=\u001b[0m\u001b[1;33m(\u001b[0m\u001b[0mname\u001b[0m\u001b[1;33m)\u001b[0m\u001b[1;33m\u001b[0m\u001b[1;33m\u001b[0m\u001b[0m\n\u001b[0m\u001b[0;32m      2\u001b[0m \u001b[0mpriint\u001b[0m\u001b[1;33m(\u001b[0m\u001b[0mtype\u001b[0m\u001b[1;33m)\u001b[0m\u001b[1;33m\u001b[0m\u001b[1;33m\u001b[0m\u001b[0m\n",
      "\u001b[1;31mNameError\u001b[0m: name 'name' is not defined"
     ]
    }
   ],
   "source": [
    "type=(name)\n",
    "priint(type)"
   ]
  },
  {
   "cell_type": "code",
   "execution_count": 6,
   "id": "23060b44",
   "metadata": {
    "scrolled": true
   },
   "outputs": [
    {
     "ename": "NameError",
     "evalue": "name 'full' is not defined",
     "output_type": "error",
     "traceback": [
      "\u001b[1;31m---------------------------------------------------------------------------\u001b[0m",
      "\u001b[1;31mNameError\u001b[0m                                 Traceback (most recent call last)",
      "\u001b[1;32m~\\AppData\\Local\\Temp/ipykernel_26084/545873499.py\u001b[0m in \u001b[0;36m<module>\u001b[1;34m\u001b[0m\n\u001b[1;32m----> 1\u001b[1;33m \u001b[0mfull\u001b[0m\u001b[1;33m\u001b[0m\u001b[1;33m\u001b[0m\u001b[0m\n\u001b[0m",
      "\u001b[1;31mNameError\u001b[0m: name 'full' is not defined"
     ]
    }
   ],
   "source": [
    "full"
   ]
  },
  {
   "cell_type": "code",
   "execution_count": 7,
   "id": "916139a1",
   "metadata": {},
   "outputs": [],
   "source": [
    "full_name=\"raj koti\""
   ]
  },
  {
   "cell_type": "code",
   "execution_count": 8,
   "id": "424c23e2",
   "metadata": {},
   "outputs": [
    {
     "name": "stdout",
     "output_type": "stream",
     "text": [
      "raj koti\n"
     ]
    }
   ],
   "source": [
    "print(full_name)"
   ]
  },
  {
   "cell_type": "code",
   "execution_count": 9,
   "id": "a8a50a80",
   "metadata": {},
   "outputs": [
    {
     "name": "stdout",
     "output_type": "stream",
     "text": [
      "Raj Koti\n"
     ]
    }
   ],
   "source": [
    "print(full_name.title())"
   ]
  },
  {
   "cell_type": "code",
   "execution_count": 10,
   "id": "5553f102",
   "metadata": {
    "scrolled": true
   },
   "outputs": [
    {
     "name": "stdout",
     "output_type": "stream",
     "text": [
      "RAJ KOTI\n"
     ]
    }
   ],
   "source": [
    "print(full_name.upper())  #used for all string uppercase letters {upper()}"
   ]
  },
  {
   "cell_type": "code",
   "execution_count": 11,
   "id": "777b49b9",
   "metadata": {},
   "outputs": [
    {
     "name": "stdout",
     "output_type": "stream",
     "text": [
      "raj koti\n"
     ]
    }
   ],
   "source": [
    "print(full_name.lower())    # used for all string in lowercase [lower()]"
   ]
  },
  {
   "cell_type": "code",
   "execution_count": 17,
   "id": "95781c81",
   "metadata": {},
   "outputs": [],
   "source": [
    "full_name1=\"koti raj ram\""
   ]
  },
  {
   "cell_type": "code",
   "execution_count": 18,
   "id": "e4adbabc",
   "metadata": {},
   "outputs": [
    {
     "name": "stdout",
     "output_type": "stream",
     "text": [
      "Koti Raj Ram\n"
     ]
    }
   ],
   "source": [
    "print(full_name1.title())"
   ]
  },
  {
   "cell_type": "code",
   "execution_count": null,
   "id": "2c71c225",
   "metadata": {},
   "outputs": [],
   "source": [
    "# introduction to f strings\n",
    "    f \"coustom words {placeholder}{placeholder}.....{placeholder}\""
   ]
  },
  {
   "cell_type": "code",
   "execution_count": 21,
   "id": "358bfc7b",
   "metadata": {},
   "outputs": [],
   "source": [
    "first_name=\"raj\""
   ]
  },
  {
   "cell_type": "code",
   "execution_count": 20,
   "id": "1d86cedf",
   "metadata": {},
   "outputs": [],
   "source": [
    "last_name=\"koti\""
   ]
  },
  {
   "cell_type": "code",
   "execution_count": 22,
   "id": "4e48b5e9",
   "metadata": {},
   "outputs": [
    {
     "name": "stdout",
     "output_type": "stream",
     "text": [
      "rajkoti\n"
     ]
    }
   ],
   "source": [
    "full_name=f\"{first_name}{last_name}\"\n",
    "print(full_name)"
   ]
  },
  {
   "cell_type": "code",
   "execution_count": 25,
   "id": "b2d989e4",
   "metadata": {},
   "outputs": [
    {
     "name": "stdout",
     "output_type": "stream",
     "text": [
      " helloRajkoti\n"
     ]
    }
   ],
   "source": [
    "print(f\" hello{full_name.title()}\")"
   ]
  },
  {
   "cell_type": "code",
   "execution_count": null,
   "id": "f6b4bce7",
   "metadata": {},
   "outputs": [],
   "source": []
  },
  {
   "cell_type": "code",
   "execution_count": null,
   "id": "a1098ec5",
   "metadata": {},
   "outputs": [],
   "source": [
    "# if we need the space inbetween first and last name \n",
    " we have to use \\n or \\t  (ADDING WHITE SPACE TO STRING)"
   ]
  },
  {
   "cell_type": "code",
   "execution_count": 29,
   "id": "75d1ecb3",
   "metadata": {},
   "outputs": [
    {
     "name": "stdout",
     "output_type": "stream",
     "text": [
      "raj\tkoti\n"
     ]
    }
   ],
   "source": [
    "print(f\"{first_name}\\t{last_name}\")"
   ]
  },
  {
   "cell_type": "code",
   "execution_count": 30,
   "id": "1d2e2f22",
   "metadata": {},
   "outputs": [
    {
     "ename": "SyntaxError",
     "evalue": "f-string expression part cannot include a backslash (Temp/ipykernel_26084/809681860.py, line 1)",
     "output_type": "error",
     "traceback": [
      "\u001b[1;36m  File \u001b[1;32m\"C:\\Users\\rohit\\AppData\\Local\\Temp/ipykernel_26084/809681860.py\"\u001b[1;36m, line \u001b[1;32m1\u001b[0m\n\u001b[1;33m    print(f\"{full_name.\\ttitle()}\")\u001b[0m\n\u001b[1;37m                                  ^\u001b[0m\n\u001b[1;31mSyntaxError\u001b[0m\u001b[1;31m:\u001b[0m f-string expression part cannot include a backslash\n"
     ]
    }
   ],
   "source": [
    "print(f\"{full_name.\\ttitle()}\")"
   ]
  },
  {
   "cell_type": "code",
   "execution_count": 31,
   "id": "84ec1659",
   "metadata": {},
   "outputs": [
    {
     "name": "stdout",
     "output_type": "stream",
     "text": [
      "\tRajkoti\n"
     ]
    }
   ],
   "source": [
    "print(f\"\\t{full_name.title()}\")"
   ]
  },
  {
   "cell_type": "code",
   "execution_count": 32,
   "id": "12a13888",
   "metadata": {},
   "outputs": [
    {
     "name": "stdout",
     "output_type": "stream",
     "text": [
      "rajkotiram\n"
     ]
    }
   ],
   "source": [
    "print(\"rajkotiram\")"
   ]
  },
  {
   "cell_type": "code",
   "execution_count": null,
   "id": "a2bf62a4",
   "metadata": {},
   "outputs": [],
   "source": [
    "#to add space use \\t--> for tab space.\n",
    "or\\n-->next line"
   ]
  },
  {
   "cell_type": "code",
   "execution_count": 33,
   "id": "22b7951f",
   "metadata": {},
   "outputs": [
    {
     "name": "stdout",
     "output_type": "stream",
     "text": [
      "raj\tkoti\tram\n"
     ]
    }
   ],
   "source": [
    "print(\"raj\\tkoti\\tram\")"
   ]
  },
  {
   "cell_type": "code",
   "execution_count": 35,
   "id": "5d797200",
   "metadata": {},
   "outputs": [
    {
     "name": "stdout",
     "output_type": "stream",
     "text": [
      "raj\n",
      "ram\n",
      "koti\n",
      "\n"
     ]
    }
   ],
   "source": [
    "print(\"raj\\nram\\nkoti\\n\")"
   ]
  },
  {
   "cell_type": "code",
   "execution_count": null,
   "id": "e4e2561c",
   "metadata": {},
   "outputs": [],
   "source": [
    "#removing white space (in string or ...)"
   ]
  },
  {
   "cell_type": "code",
   "execution_count": 36,
   "id": "470a28c5",
   "metadata": {},
   "outputs": [
    {
     "name": "stdout",
     "output_type": "stream",
     "text": [
      "c\n"
     ]
    }
   ],
   "source": [
    "language=\"c\"\n",
    "print(language)"
   ]
  },
  {
   "cell_type": "code",
   "execution_count": 37,
   "id": "cc468175",
   "metadata": {},
   "outputs": [
    {
     "name": "stdout",
     "output_type": "stream",
     "text": [
      "   java\n"
     ]
    }
   ],
   "source": [
    "language1=\"   java\"  #right space-->lstrip\n",
    "print(language1)\n"
   ]
  },
  {
   "cell_type": "code",
   "execution_count": 38,
   "id": "fb04f778",
   "metadata": {},
   "outputs": [
    {
     "name": "stdout",
     "output_type": "stream",
     "text": [
      "c++   \n"
     ]
    }
   ],
   "source": [
    "language2=\"c++   \"   #lefat space-->rstrip\n",
    "print(language2)"
   ]
  },
  {
   "cell_type": "code",
   "execution_count": 40,
   "id": "6cec2784",
   "metadata": {},
   "outputs": [
    {
     "name": "stdout",
     "output_type": "stream",
     "text": [
      "   java\n"
     ]
    }
   ],
   "source": [
    "print(language1.rstrip())"
   ]
  },
  {
   "cell_type": "code",
   "execution_count": 42,
   "id": "17cad509",
   "metadata": {},
   "outputs": [
    {
     "data": {
      "text/plain": [
       "'java'"
      ]
     },
     "execution_count": 42,
     "metadata": {},
     "output_type": "execute_result"
    }
   ],
   "source": [
    "language1.lstrip() #laft space ramoved in o\\p."
   ]
  },
  {
   "cell_type": "code",
   "execution_count": 43,
   "id": "a88fd862",
   "metadata": {},
   "outputs": [
    {
     "data": {
      "text/plain": [
       "'c++'"
      ]
     },
     "execution_count": 43,
     "metadata": {},
     "output_type": "execute_result"
    }
   ],
   "source": [
    "language2.rstrip()"
   ]
  },
  {
   "cell_type": "code",
   "execution_count": 44,
   "id": "bc53fe52",
   "metadata": {},
   "outputs": [
    {
     "data": {
      "text/plain": [
       "'c++   '"
      ]
     },
     "execution_count": 44,
     "metadata": {},
     "output_type": "execute_result"
    }
   ],
   "source": [
    "language2.lstrip() #in o\\p left space added."
   ]
  },
  {
   "cell_type": "code",
   "execution_count": null,
   "id": "881274ed",
   "metadata": {},
   "outputs": [],
   "source": [
    "# to remove left and right space use\n",
    "name.strip()"
   ]
  },
  {
   "cell_type": "code",
   "execution_count": 46,
   "id": "ab475ee2",
   "metadata": {},
   "outputs": [
    {
     "data": {
      "text/plain": [
       "'jira'"
      ]
     },
     "execution_count": 46,
     "metadata": {},
     "output_type": "execute_result"
    }
   ],
   "source": [
    "language4=\"   jira   \"\n",
    "language4.strip()           #in o\\p both l and r spaces are removed."
   ]
  },
  {
   "cell_type": "code",
   "execution_count": null,
   "id": "efbdf086",
   "metadata": {},
   "outputs": [],
   "source": []
  }
 ],
 "metadata": {
  "kernelspec": {
   "display_name": "Python 3 (ipykernel)",
   "language": "python",
   "name": "python3"
  },
  "language_info": {
   "codemirror_mode": {
    "name": "ipython",
    "version": 3
   },
   "file_extension": ".py",
   "mimetype": "text/x-python",
   "name": "python",
   "nbconvert_exporter": "python",
   "pygments_lexer": "ipython3",
   "version": "3.9.7"
  }
 },
 "nbformat": 4,
 "nbformat_minor": 5
}
