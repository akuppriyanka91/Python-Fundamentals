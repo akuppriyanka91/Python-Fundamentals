{
 "cells": [
  {
   "cell_type": "code",
   "execution_count": null,
   "id": "cd3762e6",
   "metadata": {},
   "outputs": [],
   "source": [
    "#Continuation of Dictionaries:"
   ]
  },
  {
   "cell_type": "code",
   "execution_count": 1,
   "id": "4d1eb537",
   "metadata": {},
   "outputs": [],
   "source": [
    "alien={'color':'green','points':5,'start_point':0}"
   ]
  },
  {
   "cell_type": "code",
   "execution_count": 2,
   "id": "e81bba0f",
   "metadata": {},
   "outputs": [
    {
     "name": "stdout",
     "output_type": "stream",
     "text": [
      "{'color': 'green', 'points': 5, 'start_point': 0}\n"
     ]
    }
   ],
   "source": [
    "print(alien)"
   ]
  },
  {
   "cell_type": "code",
   "execution_count": null,
   "id": "99235955",
   "metadata": {},
   "outputs": [],
   "source": []
  },
  {
   "cell_type": "code",
   "execution_count": null,
   "id": "eb7c1c14",
   "metadata": {},
   "outputs": [],
   "source": [
    "#using for loop in dictionary:"
   ]
  },
  {
   "cell_type": "code",
   "execution_count": null,
   "id": "46054a4b",
   "metadata": {},
   "outputs": [],
   "source": [
    "# syn:  for k,v in mainvar.items():\n",
    "            print(k)\n",
    "            print(v)"
   ]
  },
  {
   "cell_type": "code",
   "execution_count": null,
   "id": "feb0ce6c",
   "metadata": {},
   "outputs": [],
   "source": [
    "alien={'color':'green','points':5,'start_point':0}"
   ]
  },
  {
   "cell_type": "code",
   "execution_count": 3,
   "id": "d72c1630",
   "metadata": {},
   "outputs": [
    {
     "name": "stdout",
     "output_type": "stream",
     "text": [
      "color\n",
      "green\n",
      "points\n",
      "5\n",
      "start_point\n",
      "0\n"
     ]
    }
   ],
   "source": [
    "for k,v in alien.items():    # using for loop dictionary.\n",
    "    print(k)\n",
    "    print(v)"
   ]
  },
  {
   "cell_type": "code",
   "execution_count": 4,
   "id": "e2ba29cf",
   "metadata": {},
   "outputs": [
    {
     "name": "stdout",
     "output_type": "stream",
     "text": [
      "color green\n",
      "points 5\n",
      "start_point 0\n"
     ]
    }
   ],
   "source": [
    "for k,v in alien.items():    # using for loop dictionary.\n",
    "    print(k,v)\n",
    "    "
   ]
  },
  {
   "cell_type": "code",
   "execution_count": 5,
   "id": "af61cc57",
   "metadata": {},
   "outputs": [
    {
     "name": "stdout",
     "output_type": "stream",
     "text": [
      "key:color\n",
      "value:green\n",
      "key:points\n",
      "value:5\n",
      "key:start_point\n",
      "value:0\n"
     ]
    }
   ],
   "source": [
    "for k,v in alien.items():    #f string\n",
    "    print(f\"key:{k}\")\n",
    "    print(f\"value:{v}\")"
   ]
  },
  {
   "cell_type": "code",
   "execution_count": 6,
   "id": "845158d2",
   "metadata": {},
   "outputs": [
    {
     "name": "stdout",
     "output_type": "stream",
     "text": [
      "key:color\n",
      "value:green\n",
      "\n",
      "key:points\n",
      "value:5\n",
      "\n",
      "key:start_point\n",
      "value:0\n",
      "\n"
     ]
    }
   ],
   "source": [
    "for k,v in alien.items():    #f string to more clear understanding the o/p\n",
    "    print(f\"key:{k}\")\n",
    "    print(f\"value:{v}\\n\")"
   ]
  },
  {
   "cell_type": "code",
   "execution_count": null,
   "id": "232b3992",
   "metadata": {},
   "outputs": [],
   "source": [
    "# i want only keys as o/p ?"
   ]
  },
  {
   "cell_type": "code",
   "execution_count": 8,
   "id": "0b281926",
   "metadata": {},
   "outputs": [
    {
     "name": "stdout",
     "output_type": "stream",
     "text": [
      "key:color\n",
      "key:points\n",
      "key:start_point\n"
     ]
    }
   ],
   "source": [
    "for k in alien.keys():  #here in key place we can give any string.\n",
    "    print(f\"key:{k}\")"
   ]
  },
  {
   "cell_type": "code",
   "execution_count": 9,
   "id": "9ddc3fa6",
   "metadata": {},
   "outputs": [
    {
     "name": "stdout",
     "output_type": "stream",
     "text": [
      "j:color\n",
      "j:points\n",
      "j:start_point\n"
     ]
    }
   ],
   "source": [
    "for j in alien.keys(): # not the tempvar only string we can change.\n",
    "    print(f\"j:{j}\")"
   ]
  },
  {
   "cell_type": "code",
   "execution_count": 10,
   "id": "e4780da1",
   "metadata": {},
   "outputs": [
    {
     "name": "stdout",
     "output_type": "stream",
     "text": [
      "key:color\n",
      "key:points\n",
      "key:start_point\n"
     ]
    }
   ],
   "source": [
    "for p in alien.keys():  \n",
    "    print(f\"key:{p}\")"
   ]
  },
  {
   "cell_type": "code",
   "execution_count": null,
   "id": "0f391eab",
   "metadata": {},
   "outputs": [],
   "source": [
    "# now only values as o/p?"
   ]
  },
  {
   "cell_type": "code",
   "execution_count": 13,
   "id": "6b154405",
   "metadata": {},
   "outputs": [
    {
     "name": "stdout",
     "output_type": "stream",
     "text": [
      "val:green\n",
      "val:5\n",
      "val:0\n"
     ]
    }
   ],
   "source": [
    "for v in alien.values():\n",
    "    print(f\"val:{v}\")"
   ]
  },
  {
   "cell_type": "code",
   "execution_count": 14,
   "id": "4c6adb1c",
   "metadata": {},
   "outputs": [
    {
     "name": "stdout",
     "output_type": "stream",
     "text": [
      "o/p val:green\n",
      "\n",
      "o/p val:5\n",
      "\n",
      "o/p val:0\n",
      "\n"
     ]
    }
   ],
   "source": [
    "for v in alien.values():\n",
    "    print(f\"o/p val:{v}\\n\")"
   ]
  },
  {
   "cell_type": "code",
   "execution_count": null,
   "id": "65ff53ad",
   "metadata": {},
   "outputs": [],
   "source": []
  },
  {
   "cell_type": "code",
   "execution_count": null,
   "id": "969c730a",
   "metadata": {},
   "outputs": [],
   "source": []
  }
 ],
 "metadata": {
  "kernelspec": {
   "display_name": "Python 3 (ipykernel)",
   "language": "python",
   "name": "python3"
  },
  "language_info": {
   "codemirror_mode": {
    "name": "ipython",
    "version": 3
   },
   "file_extension": ".py",
   "mimetype": "text/x-python",
   "name": "python",
   "nbconvert_exporter": "python",
   "pygments_lexer": "ipython3",
   "version": "3.9.7"
  }
 },
 "nbformat": 4,
 "nbformat_minor": 5
}
